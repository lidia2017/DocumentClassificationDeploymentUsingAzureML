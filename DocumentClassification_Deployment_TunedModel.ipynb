{
 "cells": [
  {
   "cell_type": "code",
   "execution_count": 15,
   "metadata": {
    "id": "DBYivO9ZBgyL"
   },
   "outputs": [],
   "source": [
    "import sklearn\n",
    "import numpy as np\n",
    "import pandas as pd\n",
    "import csv\n",
    "import os\n",
    "import joblib\n",
    "from matplotlib import pyplot as plt\n",
    "from sklearn.feature_extraction.text import TfidfVectorizer\n",
    "from sklearn.preprocessing import LabelEncoder\n",
    "from sklearn import model_selection\n",
    "from sklearn.model_selection import train_test_split\n",
    "from sklearn import svm\n",
    "from sklearn.tree import DecisionTreeClassifier\n",
    "from sklearn.ensemble import RandomForestClassifier\n",
    "from sklearn.metrics import classification_report, confusion_matrix, accuracy_score"
   ]
  },
  {
   "cell_type": "code",
   "execution_count": 2,
   "metadata": {
    "id": "A3iS-TVWEW_o"
   },
   "outputs": [],
   "source": [
    "# Add the Data using pandas\n",
    "Corpus = pd.read_csv(r\"C:\\\\Users\\\\INTEL\\\\Desktop\\\\Deep Learning\\\\preprocesstext_final_V1.csv\",encoding='latin-1')"
   ]
  },
  {
   "cell_type": "code",
   "execution_count": 3,
   "metadata": {
    "colab": {
     "base_uri": "https://localhost:8080/"
    },
    "id": "K6cd1L0tEp9N",
    "outputId": "b23837a3-bf28-4c4e-d314-be97e763e666"
   },
   "outputs": [
    {
     "name": "stdout",
     "output_type": "stream",
     "text": [
      "0    ses cac eared put hh last aspen beats eadinglo...\n",
      "1                                      x bos fs st art\n",
      "2    ste took ears make caldgirene tobacco flavor p...\n",
      "3                               ny asean mon uu buried\n",
      "4    ren halos ban dan els takes healthy nerves cha...\n",
      "Name: Text, dtype: object\n"
     ]
    }
   ],
   "source": [
    "print(Corpus['Text'].head())"
   ]
  },
  {
   "cell_type": "code",
   "execution_count": 4,
   "metadata": {
    "colab": {
     "base_uri": "https://localhost:8080/",
     "height": 419
    },
    "id": "KXdu2jE0Et1P",
    "outputId": "15e01ee1-801e-4893-e62c-6841d676e202"
   },
   "outputs": [
    {
     "data": {
      "text/html": [
       "<div>\n",
       "<style scoped>\n",
       "    .dataframe tbody tr th:only-of-type {\n",
       "        vertical-align: middle;\n",
       "    }\n",
       "\n",
       "    .dataframe tbody tr th {\n",
       "        vertical-align: top;\n",
       "    }\n",
       "\n",
       "    .dataframe thead th {\n",
       "        text-align: right;\n",
       "    }\n",
       "</style>\n",
       "<table border=\"1\" class=\"dataframe\">\n",
       "  <thead>\n",
       "    <tr style=\"text-align: right;\">\n",
       "      <th></th>\n",
       "      <th>Text</th>\n",
       "      <th>Class</th>\n",
       "    </tr>\n",
       "  </thead>\n",
       "  <tbody>\n",
       "    <tr>\n",
       "      <th>0</th>\n",
       "      <td>False</td>\n",
       "      <td>False</td>\n",
       "    </tr>\n",
       "    <tr>\n",
       "      <th>1</th>\n",
       "      <td>False</td>\n",
       "      <td>False</td>\n",
       "    </tr>\n",
       "    <tr>\n",
       "      <th>2</th>\n",
       "      <td>False</td>\n",
       "      <td>False</td>\n",
       "    </tr>\n",
       "    <tr>\n",
       "      <th>3</th>\n",
       "      <td>False</td>\n",
       "      <td>False</td>\n",
       "    </tr>\n",
       "    <tr>\n",
       "      <th>4</th>\n",
       "      <td>False</td>\n",
       "      <td>False</td>\n",
       "    </tr>\n",
       "    <tr>\n",
       "      <th>5</th>\n",
       "      <td>False</td>\n",
       "      <td>False</td>\n",
       "    </tr>\n",
       "    <tr>\n",
       "      <th>6</th>\n",
       "      <td>False</td>\n",
       "      <td>False</td>\n",
       "    </tr>\n",
       "    <tr>\n",
       "      <th>7</th>\n",
       "      <td>False</td>\n",
       "      <td>False</td>\n",
       "    </tr>\n",
       "    <tr>\n",
       "      <th>8</th>\n",
       "      <td>False</td>\n",
       "      <td>False</td>\n",
       "    </tr>\n",
       "    <tr>\n",
       "      <th>9</th>\n",
       "      <td>False</td>\n",
       "      <td>False</td>\n",
       "    </tr>\n",
       "    <tr>\n",
       "      <th>10</th>\n",
       "      <td>False</td>\n",
       "      <td>False</td>\n",
       "    </tr>\n",
       "    <tr>\n",
       "      <th>11</th>\n",
       "      <td>False</td>\n",
       "      <td>False</td>\n",
       "    </tr>\n",
       "    <tr>\n",
       "      <th>12</th>\n",
       "      <td>False</td>\n",
       "      <td>False</td>\n",
       "    </tr>\n",
       "    <tr>\n",
       "      <th>13</th>\n",
       "      <td>False</td>\n",
       "      <td>False</td>\n",
       "    </tr>\n",
       "    <tr>\n",
       "      <th>14</th>\n",
       "      <td>False</td>\n",
       "      <td>False</td>\n",
       "    </tr>\n",
       "    <tr>\n",
       "      <th>15</th>\n",
       "      <td>False</td>\n",
       "      <td>False</td>\n",
       "    </tr>\n",
       "    <tr>\n",
       "      <th>16</th>\n",
       "      <td>False</td>\n",
       "      <td>False</td>\n",
       "    </tr>\n",
       "    <tr>\n",
       "      <th>17</th>\n",
       "      <td>False</td>\n",
       "      <td>False</td>\n",
       "    </tr>\n",
       "    <tr>\n",
       "      <th>18</th>\n",
       "      <td>False</td>\n",
       "      <td>False</td>\n",
       "    </tr>\n",
       "    <tr>\n",
       "      <th>19</th>\n",
       "      <td>False</td>\n",
       "      <td>False</td>\n",
       "    </tr>\n",
       "    <tr>\n",
       "      <th>20</th>\n",
       "      <td>False</td>\n",
       "      <td>False</td>\n",
       "    </tr>\n",
       "    <tr>\n",
       "      <th>21</th>\n",
       "      <td>False</td>\n",
       "      <td>False</td>\n",
       "    </tr>\n",
       "    <tr>\n",
       "      <th>22</th>\n",
       "      <td>False</td>\n",
       "      <td>False</td>\n",
       "    </tr>\n",
       "    <tr>\n",
       "      <th>23</th>\n",
       "      <td>False</td>\n",
       "      <td>False</td>\n",
       "    </tr>\n",
       "    <tr>\n",
       "      <th>24</th>\n",
       "      <td>False</td>\n",
       "      <td>False</td>\n",
       "    </tr>\n",
       "    <tr>\n",
       "      <th>25</th>\n",
       "      <td>False</td>\n",
       "      <td>False</td>\n",
       "    </tr>\n",
       "    <tr>\n",
       "      <th>26</th>\n",
       "      <td>False</td>\n",
       "      <td>False</td>\n",
       "    </tr>\n",
       "    <tr>\n",
       "      <th>27</th>\n",
       "      <td>False</td>\n",
       "      <td>False</td>\n",
       "    </tr>\n",
       "    <tr>\n",
       "      <th>28</th>\n",
       "      <td>False</td>\n",
       "      <td>False</td>\n",
       "    </tr>\n",
       "    <tr>\n",
       "      <th>29</th>\n",
       "      <td>False</td>\n",
       "      <td>False</td>\n",
       "    </tr>\n",
       "    <tr>\n",
       "      <th>...</th>\n",
       "      <td>...</td>\n",
       "      <td>...</td>\n",
       "    </tr>\n",
       "    <tr>\n",
       "      <th>15163</th>\n",
       "      <td>False</td>\n",
       "      <td>False</td>\n",
       "    </tr>\n",
       "    <tr>\n",
       "      <th>15164</th>\n",
       "      <td>False</td>\n",
       "      <td>False</td>\n",
       "    </tr>\n",
       "    <tr>\n",
       "      <th>15165</th>\n",
       "      <td>False</td>\n",
       "      <td>False</td>\n",
       "    </tr>\n",
       "    <tr>\n",
       "      <th>15166</th>\n",
       "      <td>False</td>\n",
       "      <td>False</td>\n",
       "    </tr>\n",
       "    <tr>\n",
       "      <th>15167</th>\n",
       "      <td>False</td>\n",
       "      <td>False</td>\n",
       "    </tr>\n",
       "    <tr>\n",
       "      <th>15168</th>\n",
       "      <td>False</td>\n",
       "      <td>False</td>\n",
       "    </tr>\n",
       "    <tr>\n",
       "      <th>15169</th>\n",
       "      <td>False</td>\n",
       "      <td>False</td>\n",
       "    </tr>\n",
       "    <tr>\n",
       "      <th>15170</th>\n",
       "      <td>False</td>\n",
       "      <td>False</td>\n",
       "    </tr>\n",
       "    <tr>\n",
       "      <th>15171</th>\n",
       "      <td>False</td>\n",
       "      <td>False</td>\n",
       "    </tr>\n",
       "    <tr>\n",
       "      <th>15172</th>\n",
       "      <td>False</td>\n",
       "      <td>False</td>\n",
       "    </tr>\n",
       "    <tr>\n",
       "      <th>15173</th>\n",
       "      <td>False</td>\n",
       "      <td>False</td>\n",
       "    </tr>\n",
       "    <tr>\n",
       "      <th>15174</th>\n",
       "      <td>False</td>\n",
       "      <td>False</td>\n",
       "    </tr>\n",
       "    <tr>\n",
       "      <th>15175</th>\n",
       "      <td>False</td>\n",
       "      <td>False</td>\n",
       "    </tr>\n",
       "    <tr>\n",
       "      <th>15176</th>\n",
       "      <td>False</td>\n",
       "      <td>False</td>\n",
       "    </tr>\n",
       "    <tr>\n",
       "      <th>15177</th>\n",
       "      <td>False</td>\n",
       "      <td>False</td>\n",
       "    </tr>\n",
       "    <tr>\n",
       "      <th>15178</th>\n",
       "      <td>False</td>\n",
       "      <td>False</td>\n",
       "    </tr>\n",
       "    <tr>\n",
       "      <th>15179</th>\n",
       "      <td>False</td>\n",
       "      <td>False</td>\n",
       "    </tr>\n",
       "    <tr>\n",
       "      <th>15180</th>\n",
       "      <td>False</td>\n",
       "      <td>False</td>\n",
       "    </tr>\n",
       "    <tr>\n",
       "      <th>15181</th>\n",
       "      <td>False</td>\n",
       "      <td>False</td>\n",
       "    </tr>\n",
       "    <tr>\n",
       "      <th>15182</th>\n",
       "      <td>False</td>\n",
       "      <td>False</td>\n",
       "    </tr>\n",
       "    <tr>\n",
       "      <th>15183</th>\n",
       "      <td>False</td>\n",
       "      <td>False</td>\n",
       "    </tr>\n",
       "    <tr>\n",
       "      <th>15184</th>\n",
       "      <td>False</td>\n",
       "      <td>False</td>\n",
       "    </tr>\n",
       "    <tr>\n",
       "      <th>15185</th>\n",
       "      <td>False</td>\n",
       "      <td>False</td>\n",
       "    </tr>\n",
       "    <tr>\n",
       "      <th>15186</th>\n",
       "      <td>False</td>\n",
       "      <td>False</td>\n",
       "    </tr>\n",
       "    <tr>\n",
       "      <th>15187</th>\n",
       "      <td>False</td>\n",
       "      <td>False</td>\n",
       "    </tr>\n",
       "    <tr>\n",
       "      <th>15188</th>\n",
       "      <td>False</td>\n",
       "      <td>False</td>\n",
       "    </tr>\n",
       "    <tr>\n",
       "      <th>15189</th>\n",
       "      <td>False</td>\n",
       "      <td>False</td>\n",
       "    </tr>\n",
       "    <tr>\n",
       "      <th>15190</th>\n",
       "      <td>False</td>\n",
       "      <td>False</td>\n",
       "    </tr>\n",
       "    <tr>\n",
       "      <th>15191</th>\n",
       "      <td>False</td>\n",
       "      <td>False</td>\n",
       "    </tr>\n",
       "    <tr>\n",
       "      <th>15192</th>\n",
       "      <td>False</td>\n",
       "      <td>False</td>\n",
       "    </tr>\n",
       "  </tbody>\n",
       "</table>\n",
       "<p>15193 rows × 2 columns</p>\n",
       "</div>"
      ],
      "text/plain": [
       "        Text  Class\n",
       "0      False  False\n",
       "1      False  False\n",
       "2      False  False\n",
       "3      False  False\n",
       "4      False  False\n",
       "5      False  False\n",
       "6      False  False\n",
       "7      False  False\n",
       "8      False  False\n",
       "9      False  False\n",
       "10     False  False\n",
       "11     False  False\n",
       "12     False  False\n",
       "13     False  False\n",
       "14     False  False\n",
       "15     False  False\n",
       "16     False  False\n",
       "17     False  False\n",
       "18     False  False\n",
       "19     False  False\n",
       "20     False  False\n",
       "21     False  False\n",
       "22     False  False\n",
       "23     False  False\n",
       "24     False  False\n",
       "25     False  False\n",
       "26     False  False\n",
       "27     False  False\n",
       "28     False  False\n",
       "29     False  False\n",
       "...      ...    ...\n",
       "15163  False  False\n",
       "15164  False  False\n",
       "15165  False  False\n",
       "15166  False  False\n",
       "15167  False  False\n",
       "15168  False  False\n",
       "15169  False  False\n",
       "15170  False  False\n",
       "15171  False  False\n",
       "15172  False  False\n",
       "15173  False  False\n",
       "15174  False  False\n",
       "15175  False  False\n",
       "15176  False  False\n",
       "15177  False  False\n",
       "15178  False  False\n",
       "15179  False  False\n",
       "15180  False  False\n",
       "15181  False  False\n",
       "15182  False  False\n",
       "15183  False  False\n",
       "15184  False  False\n",
       "15185  False  False\n",
       "15186  False  False\n",
       "15187  False  False\n",
       "15188  False  False\n",
       "15189  False  False\n",
       "15190  False  False\n",
       "15191  False  False\n",
       "15192  False  False\n",
       "\n",
       "[15193 rows x 2 columns]"
      ]
     },
     "execution_count": 4,
     "metadata": {},
     "output_type": "execute_result"
    }
   ],
   "source": [
    "#Explore null cells\n",
    "Corpus.isnull()"
   ]
  },
  {
   "cell_type": "code",
   "execution_count": 5,
   "metadata": {
    "colab": {
     "base_uri": "https://localhost:8080/"
    },
    "id": "25-R6lcHUtaA",
    "outputId": "c92ebd52-3ecf-45cf-ecfd-d4efa5b18e5e"
   },
   "outputs": [
    {
     "data": {
      "text/plain": [
       "Text     0\n",
       "Class    0\n",
       "dtype: int64"
      ]
     },
     "execution_count": 5,
     "metadata": {},
     "output_type": "execute_result"
    }
   ],
   "source": [
    "#View total of null values by column\n",
    "Corpus.isnull().sum()"
   ]
  },
  {
   "cell_type": "code",
   "execution_count": 6,
   "metadata": {
    "id": "Ps17irZKUxno"
   },
   "outputs": [],
   "source": [
    "# Split the model into Train and Test Data set\n",
    "Train_X, Test_X, Train_Y, Test_Y = model_selection.train_test_split(Corpus['Text'],Corpus['Class'],train_size=0.8)"
   ]
  },
  {
   "cell_type": "code",
   "execution_count": 7,
   "metadata": {
    "id": "ALQ-um4kU1tR"
   },
   "outputs": [],
   "source": [
    "# Label encode the target variable  - This is done to transform Categorical data of string type in the data set into numerical values\n",
    "Encoder = LabelEncoder()\n",
    "Train_Y = Encoder.fit_transform(Train_Y)\n",
    "Test_Y = Encoder.fit_transform(Test_Y)"
   ]
  },
  {
   "cell_type": "code",
   "execution_count": 8,
   "metadata": {
    "id": "Gy-jchzGU43-"
   },
   "outputs": [],
   "source": [
    "# Vectorize the words by using TF-IDF Vectorizer - This is done to find how important a word in document is in comaprison to the corpus\n",
    "Tfidf_vect = TfidfVectorizer(max_features=5000)\n",
    "Tfidf_vect.fit(Corpus['Text'])\n",
    "\n",
    "Train_X_Tfidf = Tfidf_vect.transform(Train_X)\n",
    "Test_X_Tfidf = Tfidf_vect.transform(Test_X)"
   ]
  },
  {
   "cell_type": "code",
   "execution_count": 18,
   "metadata": {
    "colab": {
     "base_uri": "https://localhost:8080/"
    },
    "id": "5YvNKbSIU9O2",
    "outputId": "3542f41e-1373-45f5-819f-d638fb053c6a"
   },
   "outputs": [
    {
     "name": "stdout",
     "output_type": "stream",
     "text": [
      "SVM Accuracy Score ->  87.62750904902929\n"
     ]
    }
   ],
   "source": [
    "# Classifier - Algorithm - SVM\n",
    "# fit the training dataset on the classifier\n",
    "SVM = svm.SVC(C=1.0, kernel='linear', degree=3, gamma='auto')\n",
    "SVM.fit(Train_X_Tfidf,Train_Y)\n",
    "\n",
    "# predict the labels on validation dataset\n",
    "predictions_SVM = SVM.predict(Test_X_Tfidf)\n",
    "\n",
    "# Use accuracy_score function to get the accuracy\n",
    "print(\"SVM Accuracy Score -> \",accuracy_score(predictions_SVM, Test_Y)*100)\n"
   ]
  },
  {
   "cell_type": "code",
   "execution_count": 10,
   "metadata": {
    "colab": {
     "base_uri": "https://localhost:8080/"
    },
    "id": "8sM4YhfOWL0Q",
    "outputId": "5134cd48-eed9-4b8b-b1bc-8b69eb63a908"
   },
   "outputs": [
    {
     "data": {
      "text/plain": [
       "array([3, 0, 2, ..., 1, 1, 0], dtype=int64)"
      ]
     },
     "execution_count": 10,
     "metadata": {},
     "output_type": "execute_result"
    }
   ],
   "source": [
    "predictions_SVM"
   ]
  },
  {
   "cell_type": "code",
   "execution_count": 11,
   "metadata": {
    "colab": {
     "base_uri": "https://localhost:8080/"
    },
    "id": "Of1qBpDPVCqg",
    "outputId": "79e777d1-e016-4848-e605-303dc88b2cff"
   },
   "outputs": [
    {
     "name": "stdout",
     "output_type": "stream",
     "text": [
      "[[691  36  16  27  14]\n",
      " [ 42 449  26  34   5]\n",
      " [ 10  23 524  26   1]\n",
      " [ 16  19  22 434   2]\n",
      " [ 19  17   1  20 565]]\n",
      "              precision    recall  f1-score   support\n",
      "\n",
      "           0       0.89      0.88      0.88       784\n",
      "           1       0.83      0.81      0.82       556\n",
      "           2       0.89      0.90      0.89       584\n",
      "           3       0.80      0.88      0.84       493\n",
      "           4       0.96      0.91      0.93       622\n",
      "\n",
      "    accuracy                           0.88      3039\n",
      "   macro avg       0.87      0.87      0.87      3039\n",
      "weighted avg       0.88      0.88      0.88      3039\n",
      "\n",
      "0.8762750904902928\n"
     ]
    }
   ],
   "source": [
    "print(confusion_matrix(Test_Y,predictions_SVM))\n",
    "print(classification_report(Test_Y,predictions_SVM))\n",
    "print(accuracy_score(Test_Y,predictions_SVM))"
   ]
  },
  {
   "cell_type": "code",
   "execution_count": 13,
   "metadata": {},
   "outputs": [
    {
     "name": "stdout",
     "output_type": "stream",
     "text": [
      "Linear SVM Accuracy Score ->  86.93649226719316\n"
     ]
    }
   ],
   "source": [
    "lin_svm = svm.LinearSVC()\n",
    "lin_svm.fit(Train_X_Tfidf,Train_Y)\n",
    "\n",
    "# predict the labels on validation dataset\n",
    "predictions_linearSVM = lin_svm.predict(Test_X_Tfidf)\n",
    "\n",
    "# Use accuracy_score function to get the accuracy\n",
    "print(\"Linear SVM Accuracy Score -> \",accuracy_score(predictions_linearSVM, Test_Y)*100)"
   ]
  },
  {
   "cell_type": "code",
   "execution_count": 14,
   "metadata": {},
   "outputs": [
    {
     "name": "stdout",
     "output_type": "stream",
     "text": [
      "[[685  41  18  21  19]\n",
      " [ 40 443  32  34   7]\n",
      " [  9  18 532  24   1]\n",
      " [ 21  25  23 417   7]\n",
      " [ 19  21   2  15 565]]\n",
      "              precision    recall  f1-score   support\n",
      "\n",
      "           0       0.89      0.87      0.88       784\n",
      "           1       0.81      0.80      0.80       556\n",
      "           2       0.88      0.91      0.89       584\n",
      "           3       0.82      0.85      0.83       493\n",
      "           4       0.94      0.91      0.93       622\n",
      "\n",
      "    accuracy                           0.87      3039\n",
      "   macro avg       0.87      0.87      0.87      3039\n",
      "weighted avg       0.87      0.87      0.87      3039\n",
      "\n",
      "0.8693649226719316\n"
     ]
    }
   ],
   "source": [
    "print(confusion_matrix(Test_Y,predictions_linearSVM))\n",
    "print(classification_report(Test_Y,predictions_linearSVM))\n",
    "print(accuracy_score(Test_Y,predictions_linearSVM))"
   ]
  },
  {
   "cell_type": "code",
   "execution_count": 16,
   "metadata": {},
   "outputs": [
    {
     "name": "stdout",
     "output_type": "stream",
     "text": [
      "Decision Tree Accuracy Score ->  76.50542941757156\n"
     ]
    }
   ],
   "source": [
    "dt = DecisionTreeClassifier()\n",
    "dt.fit(Train_X_Tfidf,Train_Y)\n",
    "\n",
    "# predict the labels on validation dataset\n",
    "predictions_dt = dt.predict(Test_X_Tfidf)\n",
    "\n",
    "# Use accuracy_score function to get the accuracy\n",
    "print(\"Decision Tree Accuracy Score -> \",accuracy_score(predictions_dt, Test_Y)*100)"
   ]
  },
  {
   "cell_type": "code",
   "execution_count": 17,
   "metadata": {},
   "outputs": [
    {
     "name": "stdout",
     "output_type": "stream",
     "text": [
      "Decision Tree Accuracy Score ->  86.54162553471537\n"
     ]
    }
   ],
   "source": [
    "rf = RandomForestClassifier(n_estimators = 150)\n",
    "rf.fit(Train_X_Tfidf,Train_Y)\n",
    "\n",
    "# predict the labels on validation dataset\n",
    "predictions_rf = rf.predict(Test_X_Tfidf)\n",
    "\n",
    "# Use accuracy_score function to get the accuracy\n",
    "print(\"Random Forest Accuracy Score -> \",accuracy_score(predictions_rf, Test_Y)*100)"
   ]
  },
  {
   "cell_type": "code",
   "execution_count": 19,
   "metadata": {},
   "outputs": [
    {
     "name": "stdout",
     "output_type": "stream",
     "text": [
      "Fitting 5 folds for each of 5 candidates, totalling 25 fits\n",
      "[CV] C=0.1 ..........................................................."
     ]
    },
    {
     "name": "stderr",
     "output_type": "stream",
     "text": [
      "[Parallel(n_jobs=1)]: Using backend SequentialBackend with 1 concurrent workers.\n"
     ]
    },
    {
     "name": "stdout",
     "output_type": "stream",
     "text": [
      "\n",
      "[CV] ............................... C=0.1, score=0.739, total= 4.7min\n",
      "[CV] C=0.1 ...........................................................\n"
     ]
    },
    {
     "name": "stderr",
     "output_type": "stream",
     "text": [
      "[Parallel(n_jobs=1)]: Done   1 out of   1 | elapsed:  4.7min remaining:    0.0s\n"
     ]
    },
    {
     "name": "stdout",
     "output_type": "stream",
     "text": [
      "[CV] ............................... C=0.1, score=0.735, total= 4.5min\n",
      "[CV] C=0.1 ...........................................................\n"
     ]
    },
    {
     "name": "stderr",
     "output_type": "stream",
     "text": [
      "[Parallel(n_jobs=1)]: Done   2 out of   2 | elapsed:  9.1min remaining:    0.0s\n"
     ]
    },
    {
     "name": "stdout",
     "output_type": "stream",
     "text": [
      "[CV] ............................... C=0.1, score=0.724, total= 4.7min\n",
      "[CV] C=0.1 ...........................................................\n",
      "[CV] ............................... C=0.1, score=0.733, total= 4.0min\n",
      "[CV] C=0.1 ...........................................................\n",
      "[CV] ............................... C=0.1, score=0.725, total= 3.3min\n",
      "[CV] C=1 .............................................................\n",
      "[CV] ................................. C=1, score=0.872, total= 3.0min\n",
      "[CV] C=1 .............................................................\n",
      "[CV] ................................. C=1, score=0.884, total= 3.5min\n",
      "[CV] C=1 .............................................................\n",
      "[CV] ................................. C=1, score=0.877, total= 3.4min\n",
      "[CV] C=1 .............................................................\n",
      "[CV] ................................. C=1, score=0.878, total= 3.4min\n",
      "[CV] C=1 .............................................................\n",
      "[CV] ................................. C=1, score=0.867, total= 3.3min\n",
      "[CV] C=10 ............................................................\n",
      "[CV] ................................ C=10, score=0.875, total= 4.2min\n",
      "[CV] C=10 ............................................................\n",
      "[CV] ................................ C=10, score=0.883, total= 4.3min\n",
      "[CV] C=10 ............................................................\n",
      "[CV] ................................ C=10, score=0.880, total= 4.4min\n",
      "[CV] C=10 ............................................................\n",
      "[CV] ................................ C=10, score=0.885, total= 4.3min\n",
      "[CV] C=10 ............................................................\n",
      "[CV] ................................ C=10, score=0.872, total= 4.2min\n",
      "[CV] C=100 ...........................................................\n",
      "[CV] ............................... C=100, score=0.875, total= 4.1min\n",
      "[CV] C=100 ...........................................................\n",
      "[CV] ............................... C=100, score=0.882, total= 4.2min\n",
      "[CV] C=100 ...........................................................\n",
      "[CV] ............................... C=100, score=0.881, total= 4.2min\n",
      "[CV] C=100 ...........................................................\n",
      "[CV] ............................... C=100, score=0.885, total= 4.1min\n",
      "[CV] C=100 ...........................................................\n",
      "[CV] ............................... C=100, score=0.872, total= 4.1min\n",
      "[CV] C=1000 ..........................................................\n",
      "[CV] .............................. C=1000, score=0.875, total= 4.1min\n",
      "[CV] C=1000 ..........................................................\n",
      "[CV] .............................. C=1000, score=0.882, total= 4.2min\n",
      "[CV] C=1000 ..........................................................\n",
      "[CV] .............................. C=1000, score=0.881, total= 4.1min\n",
      "[CV] C=1000 ..........................................................\n",
      "[CV] .............................. C=1000, score=0.885, total= 4.2min\n",
      "[CV] C=1000 ..........................................................\n",
      "[CV] .............................. C=1000, score=0.872, total= 4.4min\n"
     ]
    },
    {
     "name": "stderr",
     "output_type": "stream",
     "text": [
      "[Parallel(n_jobs=1)]: Done  25 out of  25 | elapsed: 101.0min finished\n"
     ]
    },
    {
     "name": "stdout",
     "output_type": "stream",
     "text": [
      "Tuned Model Accuracy Score ->  88.2856202698256\n"
     ]
    }
   ],
   "source": [
    "from sklearn.model_selection import GridSearchCV\n",
    "\n",
    "#try tuning the parameters. For LinearSVC, C is a tunable parameter\n",
    "params = {'C': [0.1, 1, 10, 100, 1000]}\n",
    "\n",
    "#use the GridSearchCV class. The core arguments are (classifier, parameters) for which we want to run a best param search.\n",
    "grid = GridSearchCV(svm.SVC(), params, refit=True, verbose=3)\n",
    "\n",
    "#fit the training data to our grid_search model, and check predictions on our test set\n",
    "grid.fit(Train_X_Tfidf,Train_Y)\n",
    "predictions_grid = grid.predict(Test_X_Tfidf)\n",
    "\n",
    "# Use accuracy_score function to get the accuracy\n",
    "print(\"Tuned Model Accuracy Score -> \",accuracy_score(predictions_grid, Test_Y)*100)"
   ]
  },
  {
   "cell_type": "code",
   "execution_count": 20,
   "metadata": {},
   "outputs": [
    {
     "data": {
      "text/plain": [
       "['C:\\\\Users\\\\INTEL\\\\Desktop\\\\Deployment\\\\SVM_vectorizer.pkl']"
      ]
     },
     "execution_count": 20,
     "metadata": {},
     "output_type": "execute_result"
    }
   ],
   "source": [
    "#save vectorizer\n",
    "joblib.dump(Tfidf_vect, \"C:\\\\Users\\\\INTEL\\\\Desktop\\\\Deployment\\\\SVM_vectorizer.pkl\")"
   ]
  },
  {
   "cell_type": "code",
   "execution_count": 27,
   "metadata": {},
   "outputs": [
    {
     "data": {
      "text/plain": [
       "['C:\\\\Users\\\\INTEL\\\\Desktop\\\\Deployment\\\\svm_model.pkl']"
      ]
     },
     "execution_count": 27,
     "metadata": {},
     "output_type": "execute_result"
    }
   ],
   "source": [
    "#save model\n",
    "joblib.dump(grid, \"C:\\\\Users\\\\INTEL\\\\Desktop\\\\Deployment\\\\svm_model.pkl\")"
   ]
  },
  {
   "cell_type": "code",
   "execution_count": 28,
   "metadata": {},
   "outputs": [],
   "source": [
    "model = joblib.load('C:\\\\Users\\\\INTEL\\\\Desktop\\\\Deployment\\\\svm_model.pkl') "
   ]
  },
  {
   "cell_type": "code",
   "execution_count": 29,
   "metadata": {},
   "outputs": [],
   "source": [
    "vectorizer = joblib.load('C:\\\\Users\\\\INTEL\\\\Desktop\\\\Deployment\\\\SVM_vectorizer.pkl')"
   ]
  },
  {
   "cell_type": "code",
   "execution_count": 67,
   "metadata": {},
   "outputs": [],
   "source": [
    "data = ['Billed To : Ashwini Items: Lahenga Price : $800 Payment Date : 28.9.2019']\n",
    "class_dict = {0: 'letter', 1: 'form', 2: 'invoice', 3: 'advertisement', 4:'email'}\n",
    "vect = vectorizer.transform(data).toarray()\n",
    "my_prediction = model.predict(vect)"
   ]
  },
  {
   "cell_type": "code",
   "execution_count": 68,
   "metadata": {},
   "outputs": [
    {
     "data": {
      "text/plain": [
       "array([2], dtype=int64)"
      ]
     },
     "execution_count": 68,
     "metadata": {},
     "output_type": "execute_result"
    }
   ],
   "source": [
    "my_prediction"
   ]
  },
  {
   "cell_type": "code",
   "execution_count": 69,
   "metadata": {},
   "outputs": [],
   "source": [
    "result = class_dict[my_prediction[0]]"
   ]
  },
  {
   "cell_type": "code",
   "execution_count": 70,
   "metadata": {},
   "outputs": [
    {
     "name": "stdout",
     "output_type": "stream",
     "text": [
      "Predicted Document is invoice\n"
     ]
    }
   ],
   "source": [
    "print('Predicted Document is {}'.format(result))"
   ]
  },
  {
   "cell_type": "code",
   "execution_count": null,
   "metadata": {},
   "outputs": [],
   "source": []
  }
 ],
 "metadata": {
  "colab": {
   "name": "DocumentClassification_Deployment",
   "provenance": []
  },
  "kernelspec": {
   "display_name": "Python 3",
   "language": "python",
   "name": "python3"
  },
  "language_info": {
   "codemirror_mode": {
    "name": "ipython",
    "version": 3
   },
   "file_extension": ".py",
   "mimetype": "text/x-python",
   "name": "python",
   "nbconvert_exporter": "python",
   "pygments_lexer": "ipython3",
   "version": "3.7.0"
  }
 },
 "nbformat": 4,
 "nbformat_minor": 1
}
