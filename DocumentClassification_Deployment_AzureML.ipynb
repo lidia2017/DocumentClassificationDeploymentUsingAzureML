{
 "cells": [
  {
   "cell_type": "code",
   "execution_count": 1,
   "metadata": {},
   "outputs": [
    {
     "name": "stdout",
     "output_type": "stream",
     "text": [
      "Requirement already up-to-date: azureml-sdk in /anaconda/envs/azureml_py36/lib/python3.6/site-packages (1.19.0)\n",
      "Requirement already up-to-date: azureml-widgets in /anaconda/envs/azureml_py36/lib/python3.6/site-packages (1.19.0)\n",
      "Requirement already satisfied, skipping upgrade: azureml-dataset-runtime[fuse]~=1.19.0 in /anaconda/envs/azureml_py36/lib/python3.6/site-packages (from azureml-sdk) (1.19.0)\n",
      "Requirement already satisfied, skipping upgrade: azureml-pipeline~=1.19.0 in /anaconda/envs/azureml_py36/lib/python3.6/site-packages (from azureml-sdk) (1.19.0)\n",
      "Requirement already satisfied, skipping upgrade: azureml-train-automl-client~=1.19.0 in /anaconda/envs/azureml_py36/lib/python3.6/site-packages (from azureml-sdk) (1.19.0)\n",
      "Requirement already satisfied, skipping upgrade: azureml-train~=1.19.0 in /anaconda/envs/azureml_py36/lib/python3.6/site-packages (from azureml-sdk) (1.19.0)\n",
      "Requirement already satisfied, skipping upgrade: azureml-core~=1.19.0 in /anaconda/envs/azureml_py36/lib/python3.6/site-packages (from azureml-sdk) (1.19.0)\n",
      "Requirement already satisfied, skipping upgrade: azureml-telemetry~=1.19.0 in /anaconda/envs/azureml_py36/lib/python3.6/site-packages (from azureml-widgets) (1.19.0)\n",
      "Requirement already satisfied, skipping upgrade: ipywidgets>=7.0.0 in /anaconda/envs/azureml_py36/lib/python3.6/site-packages (from azureml-widgets) (7.5.1)\n",
      "Requirement already satisfied, skipping upgrade: azureml-dataprep<2.7.0a,>=2.6.0a in /anaconda/envs/azureml_py36/lib/python3.6/site-packages (from azureml-dataset-runtime[fuse]~=1.19.0->azureml-sdk) (2.6.1)\n",
      "Requirement already satisfied, skipping upgrade: pyarrow<2.0.0,>=0.17.0 in /anaconda/envs/azureml_py36/lib/python3.6/site-packages (from azureml-dataset-runtime[fuse]~=1.19.0->azureml-sdk) (1.0.1)\n",
      "Requirement already satisfied, skipping upgrade: fusepy<4.0.0,>=3.0.1; extra == \"fuse\" in /anaconda/envs/azureml_py36/lib/python3.6/site-packages (from azureml-dataset-runtime[fuse]~=1.19.0->azureml-sdk) (3.0.1)\n",
      "Requirement already satisfied, skipping upgrade: azureml-pipeline-steps~=1.19.0 in /anaconda/envs/azureml_py36/lib/python3.6/site-packages (from azureml-pipeline~=1.19.0->azureml-sdk) (1.19.0)\n",
      "Requirement already satisfied, skipping upgrade: azureml-pipeline-core~=1.19.0 in /anaconda/envs/azureml_py36/lib/python3.6/site-packages (from azureml-pipeline~=1.19.0->azureml-sdk) (1.19.0)\n",
      "Requirement already satisfied, skipping upgrade: azureml-automl-core~=1.19.0 in /anaconda/envs/azureml_py36/lib/python3.6/site-packages (from azureml-train-automl-client~=1.19.0->azureml-sdk) (1.19.0)\n",
      "Requirement already satisfied, skipping upgrade: azureml-train-core~=1.19.0 in /anaconda/envs/azureml_py36/lib/python3.6/site-packages (from azureml-train~=1.19.0->azureml-sdk) (1.19.0)\n",
      "Collecting pyopenssl<20.0.0\n",
      "  Using cached pyOpenSSL-19.1.0-py2.py3-none-any.whl (53 kB)\n",
      "Requirement already satisfied, skipping upgrade: ndg-httpsclient in /anaconda/envs/azureml_py36/lib/python3.6/site-packages (from azureml-core~=1.19.0->azureml-sdk) (0.5.1)\n",
      "Requirement already satisfied, skipping upgrade: pathspec in /anaconda/envs/azureml_py36/lib/python3.6/site-packages (from azureml-core~=1.19.0->azureml-sdk) (0.8.1)\n",
      "Requirement already satisfied, skipping upgrade: requests>=2.19.1 in /anaconda/envs/azureml_py36/lib/python3.6/site-packages (from azureml-core~=1.19.0->azureml-sdk) (2.25.0)\n",
      "Requirement already satisfied, skipping upgrade: adal>=1.2.0 in /anaconda/envs/azureml_py36/lib/python3.6/site-packages (from azureml-core~=1.19.0->azureml-sdk) (1.2.5)\n",
      "Requirement already satisfied, skipping upgrade: azure-graphrbac<1.0.0,>=0.40.0 in /anaconda/envs/azureml_py36/lib/python3.6/site-packages (from azureml-core~=1.19.0->azureml-sdk) (0.61.1)\n",
      "Requirement already satisfied, skipping upgrade: msrestazure>=0.4.33 in /anaconda/envs/azureml_py36/lib/python3.6/site-packages (from azureml-core~=1.19.0->azureml-sdk) (0.6.4)\n",
      "Requirement already satisfied, skipping upgrade: contextlib2 in /anaconda/envs/azureml_py36/lib/python3.6/site-packages (from azureml-core~=1.19.0->azureml-sdk) (0.6.0.post1)\n",
      "Requirement already satisfied, skipping upgrade: msrest>=0.5.1 in /anaconda/envs/azureml_py36/lib/python3.6/site-packages (from azureml-core~=1.19.0->azureml-sdk) (0.6.19)\n",
      "Requirement already satisfied, skipping upgrade: ruamel.yaml>=0.15.35 in /anaconda/envs/azureml_py36/lib/python3.6/site-packages (from azureml-core~=1.19.0->azureml-sdk) (0.16.12)\n",
      "Requirement already satisfied, skipping upgrade: jmespath in /anaconda/envs/azureml_py36/lib/python3.6/site-packages (from azureml-core~=1.19.0->azureml-sdk) (0.10.0)\n",
      "Requirement already satisfied, skipping upgrade: jsonpickle in /anaconda/envs/azureml_py36/lib/python3.6/site-packages (from azureml-core~=1.19.0->azureml-sdk) (1.4.2)\n",
      "Requirement already satisfied, skipping upgrade: azure-mgmt-storage<16.0.0,>=1.5.0 in /anaconda/envs/azureml_py36/lib/python3.6/site-packages (from azureml-core~=1.19.0->azureml-sdk) (11.2.0)\n",
      "Requirement already satisfied, skipping upgrade: azure-common>=1.1.12 in /anaconda/envs/azureml_py36/lib/python3.6/site-packages (from azureml-core~=1.19.0->azureml-sdk) (1.1.26)\n",
      "Requirement already satisfied, skipping upgrade: azure-mgmt-authorization<1.0.0,>=0.40.0 in /anaconda/envs/azureml_py36/lib/python3.6/site-packages (from azureml-core~=1.19.0->azureml-sdk) (0.61.0)\n",
      "Requirement already satisfied, skipping upgrade: cryptography!=1.9,!=2.0.*,!=2.1.*,!=2.2.* in /anaconda/envs/azureml_py36/lib/python3.6/site-packages (from azureml-core~=1.19.0->azureml-sdk) (3.2.1)\n",
      "Requirement already satisfied, skipping upgrade: python-dateutil>=2.7.3 in /anaconda/envs/azureml_py36/lib/python3.6/site-packages (from azureml-core~=1.19.0->azureml-sdk) (2.8.1)\n",
      "Requirement already satisfied, skipping upgrade: backports.tempfile in /anaconda/envs/azureml_py36/lib/python3.6/site-packages (from azureml-core~=1.19.0->azureml-sdk) (1.0)\n",
      "Requirement already satisfied, skipping upgrade: PyJWT<2.0.0 in /anaconda/envs/azureml_py36/lib/python3.6/site-packages (from azureml-core~=1.19.0->azureml-sdk) (1.7.1)\n",
      "Requirement already satisfied, skipping upgrade: azure-mgmt-resource<15.0.0,>=1.2.1 in /anaconda/envs/azureml_py36/lib/python3.6/site-packages (from azureml-core~=1.19.0->azureml-sdk) (10.3.0)\n",
      "Requirement already satisfied, skipping upgrade: SecretStorage in /anaconda/envs/azureml_py36/lib/python3.6/site-packages (from azureml-core~=1.19.0->azureml-sdk) (3.3.0)\n",
      "Requirement already satisfied, skipping upgrade: azure-mgmt-keyvault<7.0.0,>=0.40.0 in /anaconda/envs/azureml_py36/lib/python3.6/site-packages (from azureml-core~=1.19.0->azureml-sdk) (2.2.0)\n",
      "Requirement already satisfied, skipping upgrade: azure-mgmt-containerregistry>=2.0.0 in /anaconda/envs/azureml_py36/lib/python3.6/site-packages (from azureml-core~=1.19.0->azureml-sdk) (2.8.0)\n",
      "Requirement already satisfied, skipping upgrade: docker in /anaconda/envs/azureml_py36/lib/python3.6/site-packages (from azureml-core~=1.19.0->azureml-sdk) (4.4.0)\n",
      "Requirement already satisfied, skipping upgrade: pytz in /anaconda/envs/azureml_py36/lib/python3.6/site-packages (from azureml-core~=1.19.0->azureml-sdk) (2020.5)\n",
      "Requirement already satisfied, skipping upgrade: urllib3>=1.23 in /anaconda/envs/azureml_py36/lib/python3.6/site-packages (from azureml-core~=1.19.0->azureml-sdk) (1.25.11)\n",
      "Requirement already satisfied, skipping upgrade: applicationinsights in /anaconda/envs/azureml_py36/lib/python3.6/site-packages (from azureml-telemetry~=1.19.0->azureml-widgets) (0.11.9)\n",
      "Requirement already satisfied, skipping upgrade: nbformat>=4.2.0 in /anaconda/envs/azureml_py36/lib/python3.6/site-packages (from ipywidgets>=7.0.0->azureml-widgets) (5.0.8)\n",
      "Requirement already satisfied, skipping upgrade: traitlets>=4.3.1 in /anaconda/envs/azureml_py36/lib/python3.6/site-packages (from ipywidgets>=7.0.0->azureml-widgets) (4.3.3)\n",
      "Requirement already satisfied, skipping upgrade: widgetsnbextension~=3.5.0 in /anaconda/envs/azureml_py36/lib/python3.6/site-packages (from ipywidgets>=7.0.0->azureml-widgets) (3.5.1)\n",
      "Requirement already satisfied, skipping upgrade: ipykernel>=4.5.1 in /anaconda/envs/azureml_py36/lib/python3.6/site-packages (from ipywidgets>=7.0.0->azureml-widgets) (5.3.4)\n",
      "Requirement already satisfied, skipping upgrade: ipython>=4.0.0; python_version >= \"3.3\" in /anaconda/envs/azureml_py36/lib/python3.6/site-packages (from ipywidgets>=7.0.0->azureml-widgets) (7.16.1)\n"
     ]
    },
    {
     "name": "stdout",
     "output_type": "stream",
     "text": [
      "Requirement already satisfied, skipping upgrade: azure-identity<1.5.0,>=1.2.0 in /anaconda/envs/azureml_py36/lib/python3.6/site-packages (from azureml-dataprep<2.7.0a,>=2.6.0a->azureml-dataset-runtime[fuse]~=1.19.0->azureml-sdk) (1.4.1)\n",
      "Requirement already satisfied, skipping upgrade: azureml-dataprep-rslex<1.5.0a,>=1.4.0dev0 in /anaconda/envs/azureml_py36/lib/python3.6/site-packages (from azureml-dataprep<2.7.0a,>=2.6.0a->azureml-dataset-runtime[fuse]~=1.19.0->azureml-sdk) (1.4.0)\n",
      "Requirement already satisfied, skipping upgrade: cloudpickle<2.0.0,>=1.1.0 in /anaconda/envs/azureml_py36/lib/python3.6/site-packages (from azureml-dataprep<2.7.0a,>=2.6.0a->azureml-dataset-runtime[fuse]~=1.19.0->azureml-sdk) (1.6.0)\n",
      "Requirement already satisfied, skipping upgrade: azureml-dataprep-native<27.0.0,>=26.0.0 in /anaconda/envs/azureml_py36/lib/python3.6/site-packages (from azureml-dataprep<2.7.0a,>=2.6.0a->azureml-dataset-runtime[fuse]~=1.19.0->azureml-sdk) (26.0.0)\n",
      "Requirement already satisfied, skipping upgrade: dotnetcore2<3.0.0,>=2.1.14 in /anaconda/envs/azureml_py36/lib/python3.6/site-packages (from azureml-dataprep<2.7.0a,>=2.6.0a->azureml-dataset-runtime[fuse]~=1.19.0->azureml-sdk) (2.1.19)\n",
      "Requirement already satisfied, skipping upgrade: numpy>=1.14 in /anaconda/envs/azureml_py36/lib/python3.6/site-packages (from pyarrow<2.0.0,>=0.17.0->azureml-dataset-runtime[fuse]~=1.19.0->azureml-sdk) (1.19.1)\n",
      "Requirement already satisfied, skipping upgrade: azureml-train-restclients-hyperdrive~=1.19.0 in /anaconda/envs/azureml_py36/lib/python3.6/site-packages (from azureml-train-core~=1.19.0->azureml-train~=1.19.0->azureml-sdk) (1.19.0)\n",
      "Requirement already satisfied, skipping upgrade: six>=1.5.2 in /anaconda/envs/azureml_py36/lib/python3.6/site-packages (from pyopenssl<20.0.0->azureml-core~=1.19.0->azureml-sdk) (1.15.0)\n",
      "Requirement already satisfied, skipping upgrade: pyasn1>=0.1.1 in /anaconda/envs/azureml_py36/lib/python3.6/site-packages (from ndg-httpsclient->azureml-core~=1.19.0->azureml-sdk) (0.4.8)\n",
      "Requirement already satisfied, skipping upgrade: chardet<4,>=3.0.2 in /anaconda/envs/azureml_py36/lib/python3.6/site-packages (from requests>=2.19.1->azureml-core~=1.19.0->azureml-sdk) (3.0.4)\n",
      "Requirement already satisfied, skipping upgrade: idna<3,>=2.5 in /anaconda/envs/azureml_py36/lib/python3.6/site-packages (from requests>=2.19.1->azureml-core~=1.19.0->azureml-sdk) (2.10)\n",
      "Requirement already satisfied, skipping upgrade: certifi>=2017.4.17 in /anaconda/envs/azureml_py36/lib/python3.6/site-packages (from requests>=2.19.1->azureml-core~=1.19.0->azureml-sdk) (2020.12.5)\n",
      "Requirement already satisfied, skipping upgrade: isodate>=0.6.0 in /anaconda/envs/azureml_py36/lib/python3.6/site-packages (from msrest>=0.5.1->azureml-core~=1.19.0->azureml-sdk) (0.6.0)\n",
      "Requirement already satisfied, skipping upgrade: requests-oauthlib>=0.5.0 in /anaconda/envs/azureml_py36/lib/python3.6/site-packages (from msrest>=0.5.1->azureml-core~=1.19.0->azureml-sdk) (1.3.0)\n",
      "Requirement already satisfied, skipping upgrade: ruamel.yaml.clib>=0.1.2; platform_python_implementation == \"CPython\" and python_version < \"3.9\" in /anaconda/envs/azureml_py36/lib/python3.6/site-packages (from ruamel.yaml>=0.15.35->azureml-core~=1.19.0->azureml-sdk) (0.2.2)\n",
      "Requirement already satisfied, skipping upgrade: importlib-metadata; python_version < \"3.8\" in /anaconda/envs/azureml_py36/lib/python3.6/site-packages (from jsonpickle->azureml-core~=1.19.0->azureml-sdk) (3.1.1)\n",
      "Requirement already satisfied, skipping upgrade: cffi!=1.11.3,>=1.8 in /anaconda/envs/azureml_py36/lib/python3.6/site-packages (from cryptography!=1.9,!=2.0.*,!=2.1.*,!=2.2.*->azureml-core~=1.19.0->azureml-sdk) (1.14.4)\n",
      "Requirement already satisfied, skipping upgrade: backports.weakref in /anaconda/envs/azureml_py36/lib/python3.6/site-packages (from backports.tempfile->azureml-core~=1.19.0->azureml-sdk) (1.0.post1)\n",
      "Requirement already satisfied, skipping upgrade: jeepney>=0.6 in /anaconda/envs/azureml_py36/lib/python3.6/site-packages (from SecretStorage->azureml-core~=1.19.0->azureml-sdk) (0.6.0)\n",
      "Requirement already satisfied, skipping upgrade: websocket-client>=0.32.0 in /anaconda/envs/azureml_py36/lib/python3.6/site-packages (from docker->azureml-core~=1.19.0->azureml-sdk) (0.57.0)\n",
      "Requirement already satisfied, skipping upgrade: jupyter-core in /anaconda/envs/azureml_py36/lib/python3.6/site-packages (from nbformat>=4.2.0->ipywidgets>=7.0.0->azureml-widgets) (4.7.0)\n",
      "Requirement already satisfied, skipping upgrade: ipython-genutils in /anaconda/envs/azureml_py36/lib/python3.6/site-packages (from nbformat>=4.2.0->ipywidgets>=7.0.0->azureml-widgets) (0.2.0)\n",
      "Requirement already satisfied, skipping upgrade: jsonschema!=2.5.0,>=2.4 in /anaconda/envs/azureml_py36/lib/python3.6/site-packages (from nbformat>=4.2.0->ipywidgets>=7.0.0->azureml-widgets) (3.2.0)\n",
      "Requirement already satisfied, skipping upgrade: decorator in /anaconda/envs/azureml_py36/lib/python3.6/site-packages (from traitlets>=4.3.1->ipywidgets>=7.0.0->azureml-widgets) (4.4.2)\n",
      "Requirement already satisfied, skipping upgrade: notebook>=4.4.1 in /anaconda/envs/azureml_py36/lib/python3.6/site-packages (from widgetsnbextension~=3.5.0->ipywidgets>=7.0.0->azureml-widgets) (6.1.5)\n",
      "Requirement already satisfied, skipping upgrade: jupyter-client in /anaconda/envs/azureml_py36/lib/python3.6/site-packages (from ipykernel>=4.5.1->ipywidgets>=7.0.0->azureml-widgets) (6.1.7)\n",
      "Requirement already satisfied, skipping upgrade: tornado>=4.2 in /anaconda/envs/azureml_py36/lib/python3.6/site-packages (from ipykernel>=4.5.1->ipywidgets>=7.0.0->azureml-widgets) (6.1)\n",
      "Requirement already satisfied, skipping upgrade: pygments in /anaconda/envs/azureml_py36/lib/python3.6/site-packages (from ipython>=4.0.0; python_version >= \"3.3\"->ipywidgets>=7.0.0->azureml-widgets) (2.7.3)\n",
      "Requirement already satisfied, skipping upgrade: setuptools>=18.5 in /anaconda/envs/azureml_py36/lib/python3.6/site-packages (from ipython>=4.0.0; python_version >= \"3.3\"->ipywidgets>=7.0.0->azureml-widgets) (50.3.0.post20201006)\n",
      "Requirement already satisfied, skipping upgrade: jedi>=0.10 in /anaconda/envs/azureml_py36/lib/python3.6/site-packages (from ipython>=4.0.0; python_version >= \"3.3\"->ipywidgets>=7.0.0->azureml-widgets) (0.17.2)\n",
      "Requirement already satisfied, skipping upgrade: prompt-toolkit!=3.0.0,!=3.0.1,<3.1.0,>=2.0.0 in /anaconda/envs/azureml_py36/lib/python3.6/site-packages (from ipython>=4.0.0; python_version >= \"3.3\"->ipywidgets>=7.0.0->azureml-widgets) (3.0.5)\n",
      "Requirement already satisfied, skipping upgrade: backcall in /anaconda/envs/azureml_py36/lib/python3.6/site-packages (from ipython>=4.0.0; python_version >= \"3.3\"->ipywidgets>=7.0.0->azureml-widgets) (0.2.0)\n",
      "Requirement already satisfied, skipping upgrade: pexpect; sys_platform != \"win32\" in /anaconda/envs/azureml_py36/lib/python3.6/site-packages (from ipython>=4.0.0; python_version >= \"3.3\"->ipywidgets>=7.0.0->azureml-widgets) (4.8.0)\n",
      "Requirement already satisfied, skipping upgrade: pickleshare in /anaconda/envs/azureml_py36/lib/python3.6/site-packages (from ipython>=4.0.0; python_version >= \"3.3\"->ipywidgets>=7.0.0->azureml-widgets) (0.7.5)\n",
      "Requirement already satisfied, skipping upgrade: azure-core<2.0.0,>=1.0.0 in /anaconda/envs/azureml_py36/lib/python3.6/site-packages (from azure-identity<1.5.0,>=1.2.0->azureml-dataprep<2.7.0a,>=2.6.0a->azureml-dataset-runtime[fuse]~=1.19.0->azureml-sdk) (1.9.0)\n",
      "Requirement already satisfied, skipping upgrade: msal<2.0.0,>=1.3.0 in /anaconda/envs/azureml_py36/lib/python3.6/site-packages (from azure-identity<1.5.0,>=1.2.0->azureml-dataprep<2.7.0a,>=2.6.0a->azureml-dataset-runtime[fuse]~=1.19.0->azureml-sdk) (1.6.0)\n",
      "Requirement already satisfied, skipping upgrade: msal-extensions~=0.2.2 in /anaconda/envs/azureml_py36/lib/python3.6/site-packages (from azure-identity<1.5.0,>=1.2.0->azureml-dataprep<2.7.0a,>=2.6.0a->azureml-dataset-runtime[fuse]~=1.19.0->azureml-sdk) (0.2.2)\n",
      "Requirement already satisfied, skipping upgrade: distro>=1.2.0 in /anaconda/envs/azureml_py36/lib/python3.6/site-packages (from dotnetcore2<3.0.0,>=2.1.14->azureml-dataprep<2.7.0a,>=2.6.0a->azureml-dataset-runtime[fuse]~=1.19.0->azureml-sdk) (1.5.0)\n",
      "Requirement already satisfied, skipping upgrade: oauthlib>=3.0.0 in /anaconda/envs/azureml_py36/lib/python3.6/site-packages (from requests-oauthlib>=0.5.0->msrest>=0.5.1->azureml-core~=1.19.0->azureml-sdk) (3.1.0)\n",
      "Requirement already satisfied, skipping upgrade: zipp>=0.5 in /anaconda/envs/azureml_py36/lib/python3.6/site-packages (from importlib-metadata; python_version < \"3.8\"->jsonpickle->azureml-core~=1.19.0->azureml-sdk) (3.4.0)\n",
      "Requirement already satisfied, skipping upgrade: pycparser in /anaconda/envs/azureml_py36/lib/python3.6/site-packages (from cffi!=1.11.3,>=1.8->cryptography!=1.9,!=2.0.*,!=2.1.*,!=2.2.*->azureml-core~=1.19.0->azureml-sdk) (2.20)\n",
      "Requirement already satisfied, skipping upgrade: attrs>=17.4.0 in /anaconda/envs/azureml_py36/lib/python3.6/site-packages (from jsonschema!=2.5.0,>=2.4->nbformat>=4.2.0->ipywidgets>=7.0.0->azureml-widgets) (20.3.0)\n"
     ]
    },
    {
     "name": "stdout",
     "output_type": "stream",
     "text": [
      "Requirement already satisfied, skipping upgrade: pyrsistent>=0.14.0 in /anaconda/envs/azureml_py36/lib/python3.6/site-packages (from jsonschema!=2.5.0,>=2.4->nbformat>=4.2.0->ipywidgets>=7.0.0->azureml-widgets) (0.17.3)\n",
      "Requirement already satisfied, skipping upgrade: nbconvert in /anaconda/envs/azureml_py36/lib/python3.6/site-packages (from notebook>=4.4.1->widgetsnbextension~=3.5.0->ipywidgets>=7.0.0->azureml-widgets) (6.0.7)\n",
      "Requirement already satisfied, skipping upgrade: terminado>=0.8.3 in /anaconda/envs/azureml_py36/lib/python3.6/site-packages (from notebook>=4.4.1->widgetsnbextension~=3.5.0->ipywidgets>=7.0.0->azureml-widgets) (0.9.1)\n",
      "Requirement already satisfied, skipping upgrade: jinja2 in /anaconda/envs/azureml_py36/lib/python3.6/site-packages (from notebook>=4.4.1->widgetsnbextension~=3.5.0->ipywidgets>=7.0.0->azureml-widgets) (2.11.2)\n",
      "Requirement already satisfied, skipping upgrade: prometheus-client in /anaconda/envs/azureml_py36/lib/python3.6/site-packages (from notebook>=4.4.1->widgetsnbextension~=3.5.0->ipywidgets>=7.0.0->azureml-widgets) (0.9.0)\n",
      "Requirement already satisfied, skipping upgrade: Send2Trash in /anaconda/envs/azureml_py36/lib/python3.6/site-packages (from notebook>=4.4.1->widgetsnbextension~=3.5.0->ipywidgets>=7.0.0->azureml-widgets) (1.5.0)\n",
      "Requirement already satisfied, skipping upgrade: argon2-cffi in /anaconda/envs/azureml_py36/lib/python3.6/site-packages (from notebook>=4.4.1->widgetsnbextension~=3.5.0->ipywidgets>=7.0.0->azureml-widgets) (20.1.0)\n",
      "Requirement already satisfied, skipping upgrade: pyzmq>=17 in /anaconda/envs/azureml_py36/lib/python3.6/site-packages (from notebook>=4.4.1->widgetsnbextension~=3.5.0->ipywidgets>=7.0.0->azureml-widgets) (20.0.0)\n",
      "Requirement already satisfied, skipping upgrade: parso<0.8.0,>=0.7.0 in /anaconda/envs/azureml_py36/lib/python3.6/site-packages (from jedi>=0.10->ipython>=4.0.0; python_version >= \"3.3\"->ipywidgets>=7.0.0->azureml-widgets) (0.7.1)\n",
      "Requirement already satisfied, skipping upgrade: wcwidth in /anaconda/envs/azureml_py36/lib/python3.6/site-packages (from prompt-toolkit!=3.0.0,!=3.0.1,<3.1.0,>=2.0.0->ipython>=4.0.0; python_version >= \"3.3\"->ipywidgets>=7.0.0->azureml-widgets) (0.2.5)\n",
      "Requirement already satisfied, skipping upgrade: ptyprocess>=0.5 in /anaconda/envs/azureml_py36/lib/python3.6/site-packages (from pexpect; sys_platform != \"win32\"->ipython>=4.0.0; python_version >= \"3.3\"->ipywidgets>=7.0.0->azureml-widgets) (0.6.0)\n",
      "Requirement already satisfied, skipping upgrade: portalocker~=1.0; platform_system != \"Windows\" in /anaconda/envs/azureml_py36/lib/python3.6/site-packages (from msal-extensions~=0.2.2->azure-identity<1.5.0,>=1.2.0->azureml-dataprep<2.7.0a,>=2.6.0a->azureml-dataset-runtime[fuse]~=1.19.0->azureml-sdk) (1.7.1)\n",
      "Requirement already satisfied, skipping upgrade: mistune<2,>=0.8.1 in /anaconda/envs/azureml_py36/lib/python3.6/site-packages (from nbconvert->notebook>=4.4.1->widgetsnbextension~=3.5.0->ipywidgets>=7.0.0->azureml-widgets) (0.8.4)\n",
      "Requirement already satisfied, skipping upgrade: pandocfilters>=1.4.1 in /anaconda/envs/azureml_py36/lib/python3.6/site-packages (from nbconvert->notebook>=4.4.1->widgetsnbextension~=3.5.0->ipywidgets>=7.0.0->azureml-widgets) (1.4.3)\n",
      "Requirement already satisfied, skipping upgrade: nbclient<0.6.0,>=0.5.0 in /anaconda/envs/azureml_py36/lib/python3.6/site-packages (from nbconvert->notebook>=4.4.1->widgetsnbextension~=3.5.0->ipywidgets>=7.0.0->azureml-widgets) (0.5.1)\n",
      "Requirement already satisfied, skipping upgrade: entrypoints>=0.2.2 in /anaconda/envs/azureml_py36/lib/python3.6/site-packages (from nbconvert->notebook>=4.4.1->widgetsnbextension~=3.5.0->ipywidgets>=7.0.0->azureml-widgets) (0.3)\n",
      "Requirement already satisfied, skipping upgrade: jupyterlab-pygments in /anaconda/envs/azureml_py36/lib/python3.6/site-packages (from nbconvert->notebook>=4.4.1->widgetsnbextension~=3.5.0->ipywidgets>=7.0.0->azureml-widgets) (0.1.2)\n",
      "Requirement already satisfied, skipping upgrade: bleach in /anaconda/envs/azureml_py36/lib/python3.6/site-packages (from nbconvert->notebook>=4.4.1->widgetsnbextension~=3.5.0->ipywidgets>=7.0.0->azureml-widgets) (3.2.1)\n",
      "Requirement already satisfied, skipping upgrade: testpath in /anaconda/envs/azureml_py36/lib/python3.6/site-packages (from nbconvert->notebook>=4.4.1->widgetsnbextension~=3.5.0->ipywidgets>=7.0.0->azureml-widgets) (0.4.4)\n",
      "Requirement already satisfied, skipping upgrade: defusedxml in /anaconda/envs/azureml_py36/lib/python3.6/site-packages (from nbconvert->notebook>=4.4.1->widgetsnbextension~=3.5.0->ipywidgets>=7.0.0->azureml-widgets) (0.6.0)\n",
      "Requirement already satisfied, skipping upgrade: MarkupSafe>=0.23 in /anaconda/envs/azureml_py36/lib/python3.6/site-packages (from jinja2->notebook>=4.4.1->widgetsnbextension~=3.5.0->ipywidgets>=7.0.0->azureml-widgets) (1.1.1)\n",
      "Requirement already satisfied, skipping upgrade: async-generator in /anaconda/envs/azureml_py36/lib/python3.6/site-packages (from nbclient<0.6.0,>=0.5.0->nbconvert->notebook>=4.4.1->widgetsnbextension~=3.5.0->ipywidgets>=7.0.0->azureml-widgets) (1.10)\n",
      "Requirement already satisfied, skipping upgrade: nest-asyncio in /anaconda/envs/azureml_py36/lib/python3.6/site-packages (from nbclient<0.6.0,>=0.5.0->nbconvert->notebook>=4.4.1->widgetsnbextension~=3.5.0->ipywidgets>=7.0.0->azureml-widgets) (1.4.3)\n",
      "Requirement already satisfied, skipping upgrade: packaging in /anaconda/envs/azureml_py36/lib/python3.6/site-packages (from bleach->nbconvert->notebook>=4.4.1->widgetsnbextension~=3.5.0->ipywidgets>=7.0.0->azureml-widgets) (20.7)\n",
      "Requirement already satisfied, skipping upgrade: webencodings in /anaconda/envs/azureml_py36/lib/python3.6/site-packages (from bleach->nbconvert->notebook>=4.4.1->widgetsnbextension~=3.5.0->ipywidgets>=7.0.0->azureml-widgets) (0.5.1)\n",
      "Requirement already satisfied, skipping upgrade: pyparsing>=2.0.2 in /anaconda/envs/azureml_py36/lib/python3.6/site-packages (from packaging->bleach->nbconvert->notebook>=4.4.1->widgetsnbextension~=3.5.0->ipywidgets>=7.0.0->azureml-widgets) (2.4.7)\n",
      "\u001b[31mERROR: azureml-contrib-notebook 1.19.0 has requirement nbconvert<6, but you'll have nbconvert 6.0.7 which is incompatible.\u001b[0m\n",
      "\u001b[31mERROR: azure-cli-core 2.16.0 has requirement msal~=1.0.0, but you'll have msal 1.6.0 which is incompatible.\u001b[0m\n",
      "\u001b[31mERROR: azure-cli-core 2.16.0 has requirement msal-extensions~=0.1.3, but you'll have msal-extensions 0.2.2 which is incompatible.\u001b[0m\n",
      "Installing collected packages: pyopenssl\n",
      "  Attempting uninstall: pyopenssl\n",
      "    Found existing installation: pyOpenSSL 20.0.1\n",
      "    Uninstalling pyOpenSSL-20.0.1:\n",
      "      Successfully uninstalled pyOpenSSL-20.0.1\n",
      "Successfully installed pyopenssl-19.1.0\n"
     ]
    }
   ],
   "source": [
    "!pip install --upgrade azureml-sdk azureml-widgets"
   ]
  },
  {
   "cell_type": "code",
   "execution_count": 2,
   "metadata": {},
   "outputs": [
    {
     "name": "stdout",
     "output_type": "stream",
     "text": [
      "Ready to use Azure ML 1.19.0 to work with MLWorkspace\n"
     ]
    }
   ],
   "source": [
    "import azureml.core\n",
    "from azureml.core import Workspace\n",
    "\n",
    "# Load the workspace from the saved config file\n",
    "ws = Workspace.from_config()\n",
    "print('Ready to use Azure ML {} to work with {}'.format(azureml.core.VERSION, ws.name))"
   ]
  },
  {
   "cell_type": "code",
   "execution_count": 4,
   "metadata": {},
   "outputs": [
    {
     "data": {
      "text/plain": [
       "['/mnt/batch/tasks/shared/LS_root/mounts/clusters/computeinstanceforrnd/code/preprocesstext_final_V1.csv']"
      ]
     },
     "execution_count": 4,
     "metadata": {},
     "output_type": "execute_result"
    }
   ],
   "source": [
    "# azureml-core of version 1.0.72 or higher is required\n",
    "from azureml.core import Workspace, Dataset\n",
    "\n",
    "subscription_id = '3de5d625-9504-483a-bb05-8cc0fc7fb6f0'\n",
    "resource_group = 'DeepLearning'\n",
    "workspace_name = 'MLWorkspace'\n",
    "\n",
    "workspace = Workspace(subscription_id, resource_group, workspace_name)\n",
    "\n",
    "dataset = Dataset.get_by_name(workspace, name='DocumentClassificationDataset')\n",
    "dataset.download(target_path='.', overwrite=True)"
   ]
  },
  {
   "cell_type": "code",
   "execution_count": 5,
   "metadata": {},
   "outputs": [
    {
     "name": "stderr",
     "output_type": "stream",
     "text": [
      "Using TensorFlow backend.\n"
     ]
    },
    {
     "name": "stdout",
     "output_type": "stream",
     "text": [
      "Starting experiment: document_classification\n",
      "Loading Data...\n",
      "SVM Accuracy Score ->  88.18690358670615\n",
      "Model trained and registered.\n"
     ]
    }
   ],
   "source": [
    "from azureml.core import Experiment\n",
    "from azureml.core import Model\n",
    "import pandas as pd\n",
    "import numpy as np\n",
    "import joblib\n",
    "from sklearn.model_selection import train_test_split\n",
    "from sklearn.feature_extraction.text import TfidfVectorizer\n",
    "from sklearn.preprocessing import LabelEncoder\n",
    "from sklearn import model_selection\n",
    "from sklearn import svm\n",
    "from sklearn.metrics import classification_report, confusion_matrix, accuracy_score\n",
    "from keras.preprocessing.text import Tokenizer\n",
    "from keras.preprocessing.sequence import pad_sequences\n",
    "\n",
    "# Create an Azure ML experiment in your workspace\n",
    "experiment = Experiment(workspace=ws, name=\"document_classification\")\n",
    "run = experiment.start_logging()\n",
    "print(\"Starting experiment:\", experiment.name)\n",
    "\n",
    "# load the diabetes dataset\n",
    "print(\"Loading Data...\")\n",
    "Corpus = pd.read_csv('/mnt/batch/tasks/shared/LS_root/mounts/clusters/computeinstanceforrnd/code/preprocesstext_final_V1.csv',encoding='latin-1')\n",
    "\n",
    "# Split the model into Train and Test Data set\n",
    "Train_X, Test_X, Train_Y, Test_Y = model_selection.train_test_split(Corpus['Text'],Corpus['Class'],train_size=0.8)\n",
    "\n",
    "# Label encode the target variable  - This is done to transform Categorical data of string type in the data set into numerical values\n",
    "Encoder = LabelEncoder()\n",
    "Train_Y = Encoder.fit_transform(Train_Y)\n",
    "Test_Y = Encoder.fit_transform(Test_Y)\n",
    "\n",
    "# Vectorize the words by using TF-IDF Vectorizer - This is done to find how important a word in document is in comaprison to the corpus\n",
    "Tfidf_vect = TfidfVectorizer(max_features=5000)\n",
    "Tfidf_vect.fit(Corpus['Text'])\n",
    "\n",
    "Train_X_Tfidf = Tfidf_vect.transform(Train_X)\n",
    "Test_X_Tfidf = Tfidf_vect.transform(Test_X)\n",
    "\n",
    "# Classifier - Algorithm - SVM\n",
    "# fit the training dataset on the classifier\n",
    "SVM = svm.SVC(C=1.0, kernel='linear', degree=3, gamma='auto')\n",
    "SVM.fit(Train_X_Tfidf,Train_Y)\n",
    "\n",
    "# predict the labels on validation dataset\n",
    "predictions_SVM = SVM.predict(Test_X_Tfidf)\n",
    "\n",
    "# Use accuracy_score function to get the accuracy\n",
    "print('SVM Accuracy Score -> ',accuracy_score(predictions_SVM, Test_Y)*100)\n",
    "run.log('Accuracy', accuracy_score(predictions_SVM, Test_Y)*100)\n",
    "\n",
    "# Save the trained model\n",
    "model_file = 'documentclassification_model.pkl'\n",
    "joblib.dump(value=SVM, filename=model_file)\n",
    "run.upload_file(name = 'outputs/' + model_file, path_or_stream = './' + model_file)\n",
    "\n",
    "#save vectorizer\n",
    "vectorizer_file = 'documentclassification_vectorizer.pkl'\n",
    "joblib.dump(value = Tfidf_vect, filename=vectorizer_file)\n",
    "run.upload_file(name = 'outputs/' + vectorizer_file, path_or_stream = './' + vectorizer_file)\n",
    "\n",
    "# Complete the run\n",
    "run.complete()\n",
    "\n",
    "# Register the model\n",
    "run.register_model(model_path='outputs/documentclassification_model.pkl', model_name='documentclassification_model',\n",
    "                   tags={'Training context':'Inline Training'},\n",
    "                   properties={'Accuracy': run.get_metrics()['Accuracy']})\n",
    "\n",
    "print('Model trained and registered.')"
   ]
  },
  {
   "cell_type": "code",
   "execution_count": 6,
   "metadata": {},
   "outputs": [
    {
     "name": "stdout",
     "output_type": "stream",
     "text": [
      "documentclassification_model version: 3\n",
      "\t Training context : Inline Training\n",
      "\t Accuracy : 88.18690358670615\n",
      "\n",
      "\n",
      "documentclassification_vectorizer version: 1\n",
      "\t Training context : Inline Training\n",
      "\n",
      "\n",
      "documentclassification_model version: 2\n",
      "\t Training context : Inline Training\n",
      "\t Accuracy : 88.18690358670615\n",
      "\n",
      "\n",
      "documentclassification_model version: 1\n",
      "\t Training context : Inline Training\n",
      "\t Accuracy : 87.2326423165515\n",
      "\n",
      "\n"
     ]
    }
   ],
   "source": [
    "from azureml.core import Model\n",
    "\n",
    "for model in Model.list(ws):\n",
    "    print(model.name, 'version:', model.version)\n",
    "    for tag_name in model.tags:\n",
    "        tag = model.tags[tag_name]\n",
    "        print ('\\t',tag_name, ':', tag)\n",
    "    for prop_name in model.properties:\n",
    "        prop = model.properties[prop_name]\n",
    "        print ('\\t',prop_name, ':', prop)\n",
    "    print('\\n')"
   ]
  },
  {
   "cell_type": "code",
   "execution_count": 7,
   "metadata": {},
   "outputs": [
    {
     "name": "stdout",
     "output_type": "stream",
     "text": [
      "documentclassification_model version 3\n"
     ]
    }
   ],
   "source": [
    "model = ws.models['documentclassification_model']\n",
    "print(model.name, 'version', model.version)"
   ]
  },
  {
   "cell_type": "code",
   "execution_count": 8,
   "metadata": {},
   "outputs": [
    {
     "name": "stdout",
     "output_type": "stream",
     "text": [
      "documentclassification_service folder created.\n"
     ]
    }
   ],
   "source": [
    "import os\n",
    "\n",
    "folder_name = 'documentclassification_service'\n",
    "\n",
    "# Create a folder for the web service files\n",
    "experiment_folder = './' + folder_name\n",
    "os.makedirs(experiment_folder, exist_ok=True)\n",
    "\n",
    "print(folder_name, 'folder created.')\n",
    "\n",
    "# Set path for scoring script\n",
    "script_file = os.path.join(experiment_folder,\"score_documentclassification.py\")"
   ]
  },
  {
   "cell_type": "code",
   "execution_count": 9,
   "metadata": {},
   "outputs": [
    {
     "name": "stdout",
     "output_type": "stream",
     "text": [
      "Overwriting ./documentclassification_service/score_documentclassification.py\n"
     ]
    }
   ],
   "source": [
    "%%writefile $script_file\n",
    "import json\n",
    "import joblib\n",
    "import numpy as np\n",
    "from azureml.core.model import Model\n",
    "\n",
    "# Called when the service is loaded\n",
    "def init():\n",
    "    global model\n",
    "    # Get the path to the deployed model file and load it\n",
    "    model_path = Model.get_model_path('documentclassification_model')\n",
    "    model = joblib.load(model_path)\n",
    "    \n",
    "# Called when a request is received\n",
    "def run(raw_data):\n",
    "    # Get the input data as a numpy array\n",
    "    data = np.array(json.loads(raw_data)['data'])\n",
    "    # Get a prediction from the model\n",
    "    predictions = model.predict(data)\n",
    "    # Get the corresponding classname for each prediction \n",
    "    class_dict = {0: 'letter', 1: 'form', 2: 'invoice', 3: 'advertisement', 4:'email'}\n",
    "    predicted_classes = []\n",
    "    for prediction in predictions:\n",
    "        predicted_classes.append(class_dict[prediction])\n",
    "    # Return the predictions as JSON\n",
    "    return json.dumps(predicted_classes)"
   ]
  },
  {
   "cell_type": "code",
   "execution_count": 10,
   "metadata": {},
   "outputs": [
    {
     "name": "stdout",
     "output_type": "stream",
     "text": [
      "Saved dependency info in ./documentclassification_service/docclassification_env.yml\n",
      "# Conda environment specification. The dependencies defined in this file will\n",
      "# be automatically provisioned for runs with userManagedDependencies=False.\n",
      "\n",
      "# Details about the Conda environment file format:\n",
      "# https://conda.io/docs/user-guide/tasks/manage-environments.html#create-env-file-manually\n",
      "\n",
      "name: project_environment\n",
      "dependencies:\n",
      "  # The python interpreter version.\n",
      "  # Currently Azure ML only supports 3.5.2 and later.\n",
      "- python=3.6.2\n",
      "\n",
      "- pip:\n",
      "    # Required packages for AzureML execution, history, and data preparation.\n",
      "  - azureml-defaults\n",
      "\n",
      "- scikit-learn\n",
      "channels:\n",
      "- anaconda\n",
      "- conda-forge\n",
      "\n"
     ]
    }
   ],
   "source": [
    "from azureml.core.conda_dependencies import CondaDependencies \n",
    "\n",
    "# Add the dependencies for our model (AzureML defaults is already included)\n",
    "myenv = CondaDependencies()\n",
    "myenv.add_conda_package('scikit-learn')\n",
    "\n",
    "# Save the environment config as a .yml file\n",
    "env_file = os.path.join(experiment_folder,\"docclassification_env.yml\")\n",
    "with open(env_file,\"w\") as f:\n",
    "    f.write(myenv.serialize_to_string())\n",
    "print(\"Saved dependency info in\", env_file)\n",
    "\n",
    "# Print the .yml file\n",
    "with open(env_file,\"r\") as f:\n",
    "    print(f.read())"
   ]
  },
  {
   "cell_type": "code",
   "execution_count": 12,
   "metadata": {},
   "outputs": [
    {
     "name": "stdout",
     "output_type": "stream",
     "text": [
      "Tips: You can try get_logs(): https://aka.ms/debugimage#dockerlog or local deployment: https://aka.ms/debugimage#debug-locally to debug if deployment takes longer than 10 minutes.\n",
      "Running......................\n",
      "Succeeded\n",
      "ACI service creation operation finished, operation \"Succeeded\"\n",
      "Healthy\n"
     ]
    }
   ],
   "source": [
    "from azureml.core.webservice import AciWebservice\n",
    "from azureml.core.model import InferenceConfig\n",
    "\n",
    "# Configure the scoring environment\n",
    "inference_config = InferenceConfig(runtime= \"python\",\n",
    "                                   entry_script=script_file,\n",
    "                                   conda_file=env_file)\n",
    "\n",
    "deployment_config = AciWebservice.deploy_configuration(cpu_cores = 1, memory_gb = 1)\n",
    "\n",
    "service_name = \"documentclassification-service\"\n",
    "\n",
    "service = Model.deploy(ws, service_name, [model], inference_config, deployment_config)\n",
    "\n",
    "service.wait_for_deployment(True)\n",
    "print(service.state)"
   ]
  },
  {
   "cell_type": "code",
   "execution_count": 28,
   "metadata": {},
   "outputs": [
    {
     "name": "stdout",
     "output_type": "stream",
     "text": [
      "None\n"
     ]
    }
   ],
   "source": [
    "print(service.get_logs())"
   ]
  },
  {
   "cell_type": "code",
   "execution_count": 14,
   "metadata": {},
   "outputs": [
    {
     "name": "stdout",
     "output_type": "stream",
     "text": [
      "documentclassification-service\n"
     ]
    }
   ],
   "source": [
    "for webservice_name in ws.webservices:\n",
    "    print(webservice_name)"
   ]
  },
  {
   "cell_type": "code",
   "execution_count": 39,
   "metadata": {},
   "outputs": [
    {
     "name": "stdout",
     "output_type": "stream",
     "text": [
      "Data: ['This is an admission application form']\n",
      "The Predicted document is : form\n"
     ]
    }
   ],
   "source": [
    "import json\n",
    "\n",
    "x_new = ['This is an admission application form']\n",
    "print ('Data: {}'.format(x_new))\n",
    "vect = Tfidf_vect.transform(x_new).toarray()\n",
    "\n",
    "# Convert the array to a serializable list in a JSON document\n",
    "input_json = json.dumps({\"data\": vect.tolist()})\n",
    "input_json = bytes(input_json, encoding = 'utf8')\n",
    "\n",
    "# Call the web service, passing the input data (the web service will also accept the data in binary format)\n",
    "predictions = service.run(input_data = input_json)\n",
    "\n",
    "# Get the predicted class - it'll be the first (and only) one.\n",
    "predicted_classes = json.loads(predictions)\n",
    "print('The Predicted document is : {}'.format(predicted_classes[0]))"
   ]
  },
  {
   "cell_type": "code",
   "execution_count": 37,
   "metadata": {},
   "outputs": [
    {
     "data": {
      "text/plain": [
       "'2021-01-10T15:19:21,141467700+00:00 - gunicorn/run \\n2021-01-10T15:19:21,155152200+00:00 - rsyslog/run \\n2021-01-10T15:19:21,153623100+00:00 - iot-server/run \\n2021-01-10T15:19:21,162507600+00:00 - nginx/run \\n/usr/sbin/nginx: /azureml-envs/azureml_4b824bcb98517d791c41923f24d65461/lib/libcrypto.so.1.0.0: no version information available (required by /usr/sbin/nginx)\\n/usr/sbin/nginx: /azureml-envs/azureml_4b824bcb98517d791c41923f24d65461/lib/libcrypto.so.1.0.0: no version information available (required by /usr/sbin/nginx)\\n/usr/sbin/nginx: /azureml-envs/azureml_4b824bcb98517d791c41923f24d65461/lib/libssl.so.1.0.0: no version information available (required by /usr/sbin/nginx)\\n/usr/sbin/nginx: /azureml-envs/azureml_4b824bcb98517d791c41923f24d65461/lib/libssl.so.1.0.0: no version information available (required by /usr/sbin/nginx)\\n/usr/sbin/nginx: /azureml-envs/azureml_4b824bcb98517d791c41923f24d65461/lib/libssl.so.1.0.0: no version information available (required by /usr/sbin/nginx)\\nEdgeHubConnectionString and IOTEDGE_IOTHUBHOSTNAME are not set. Exiting...\\n2021-01-10T15:19:22,741753800+00:00 - iot-server/finish 1 0\\n2021-01-10T15:19:22,746066400+00:00 - Exit code 1 is normal. Not restarting iot-server.\\nStarting gunicorn 19.9.0\\nListening at: http://127.0.0.1:31311 (67)\\nUsing worker: sync\\nworker timeout is set to 300\\nBooting worker with pid: 97\\nSPARK_HOME not set. Skipping PySpark Initialization.\\nInitializing logger\\n2021-01-10 15:19:27,714 | root | INFO | Starting up app insights client\\nStarting up app insights client\\n2021-01-10 15:19:27,714 | root | INFO | Starting up request id generator\\nStarting up request id generator\\n2021-01-10 15:19:27,715 | root | INFO | Starting up app insight hooks\\nStarting up app insight hooks\\n2021-01-10 15:19:27,715 | root | INFO | Invoking user\\'s init function\\nInvoking user\\'s init function\\n/azureml-envs/azureml_4b824bcb98517d791c41923f24d65461/lib/python3.6/site-packages/sklearn/base.py:334: UserWarning: Trying to unpickle estimator SVC from version 0.23.1 when using version 0.23.2. This might lead to breaking code or invalid results. Use at your own risk.\\n  UserWarning)\\n2021-01-10 15:19:30,015 | root | INFO | Users\\'s init has completed successfully\\nUsers\\'s init has completed successfully\\n2021-01-10 15:19:30,024 | root | INFO | Skipping middleware: dbg_model_info as it\\'s not enabled.\\nSkipping middleware: dbg_model_info as it\\'s not enabled.\\n2021-01-10 15:19:30,024 | root | INFO | Skipping middleware: dbg_resource_usage as it\\'s not enabled.\\nSkipping middleware: dbg_resource_usage as it\\'s not enabled.\\n2021-01-10 15:19:30,026 | root | INFO | Scoring timeout is found from os.environ: 60000 ms\\nScoring timeout is found from os.environ: 60000 ms\\n2021-01-10 15:20:28,849 | root | INFO | Validation Request Content-Type\\nValidation Request Content-Type\\n2021-01-10 15:20:28,850 | root | INFO | \\tHost: localhost:5001\\n\\tHost: localhost:5001\\n2021-01-10 15:20:28,850 | root | INFO | \\tX-Real-Ip: 127.0.0.1\\n\\tX-Real-Ip: 127.0.0.1\\n2021-01-10 15:20:28,850 | root | INFO | \\tX-Forwarded-For: 127.0.0.1\\n\\tX-Forwarded-For: 127.0.0.1\\n2021-01-10 15:20:28,850 | root | INFO | \\tX-Forwarded-Proto: http\\n\\tX-Forwarded-Proto: http\\n2021-01-10 15:20:28,850 | root | INFO | \\tConnection: close\\n\\tConnection: close\\n2021-01-10 15:20:28,851 | root | INFO | \\tContent-Length: 25104\\n\\tContent-Length: 25104\\n2021-01-10 15:20:28,851 | root | INFO | \\tUser-Agent: python-requests/2.25.0\\n\\tUser-Agent: python-requests/2.25.0\\n2021-01-10 15:20:28,852 | root | INFO | \\tAccept: */*\\n\\tAccept: */*\\n2021-01-10 15:20:28,852 | root | INFO | \\tAccept-Encoding: gzip, deflate\\n\\tAccept-Encoding: gzip, deflate\\n2021-01-10 15:20:28,852 | root | INFO | \\tContent-Type: application/json\\n\\tContent-Type: application/json\\n2021-01-10 15:20:28,853 | root | INFO | \\tX-Ms-Request-Id: cf9385d8-a336-4018-8b9b-388adbde9f6b\\n\\tX-Ms-Request-Id: cf9385d8-a336-4018-8b9b-388adbde9f6b\\n2021-01-10 15:20:28,853 | root | INFO | Scoring Timer is set to 60.0 seconds\\nScoring Timer is set to 60.0 seconds\\n2021-01-10 15:20:28,865 | root | INFO | 200\\n200\\n127.0.0.1 - - [10/Jan/2021:15:20:28 +0000] \"POST /score HTTP/1.0\" 200 21 \"-\" \"python-requests/2.25.0\"\\n2021-01-10 15:21:36,974 | root | INFO | Validation Request Content-Type\\nValidation Request Content-Type\\n2021-01-10 15:21:36,975 | root | INFO | \\tHost: localhost:5001\\n\\tHost: localhost:5001\\n2021-01-10 15:21:36,975 | root | INFO | \\tX-Real-Ip: 127.0.0.1\\n\\tX-Real-Ip: 127.0.0.1\\n2021-01-10 15:21:36,975 | root | INFO | \\tX-Forwarded-For: 127.0.0.1\\n\\tX-Forwarded-For: 127.0.0.1\\n2021-01-10 15:21:36,976 | root | INFO | \\tX-Forwarded-Proto: http\\n\\tX-Forwarded-Proto: http\\n2021-01-10 15:21:36,976 | root | INFO | \\tConnection: close\\n\\tConnection: close\\n2021-01-10 15:21:36,976 | root | INFO | \\tContent-Length: 25042\\n\\tContent-Length: 25042\\n2021-01-10 15:21:36,977 | root | INFO | \\tUser-Agent: python-requests/2.25.0\\n\\tUser-Agent: python-requests/2.25.0\\n2021-01-10 15:21:36,977 | root | INFO | \\tAccept: */*\\n\\tAccept: */*\\n2021-01-10 15:21:36,978 | root | INFO | \\tAccept-Encoding: gzip, deflate\\n\\tAccept-Encoding: gzip, deflate\\n2021-01-10 15:21:36,978 | root | INFO | \\tContent-Type: application/json\\n\\tContent-Type: application/json\\n2021-01-10 15:21:36,978 | root | INFO | \\tX-Ms-Request-Id: a717c362-35b4-4719-a33c-9545bb22da2c\\n\\tX-Ms-Request-Id: a717c362-35b4-4719-a33c-9545bb22da2c\\n2021-01-10 15:21:36,978 | root | INFO | Scoring Timer is set to 60.0 seconds\\nScoring Timer is set to 60.0 seconds\\n2021-01-10 15:21:36,989 | root | INFO | 200\\n200\\n127.0.0.1 - - [10/Jan/2021:15:21:36 +0000] \"POST /score HTTP/1.0\" 200 12 \"-\" \"python-requests/2.25.0\"\\n2021-01-10 15:21:37,027 | root | INFO | Validation Request Content-Type\\nValidation Request Content-Type\\n2021-01-10 15:21:37,028 | root | INFO | \\tHost: localhost:5001\\n\\tHost: localhost:5001\\n2021-01-10 15:21:37,029 | root | INFO | \\tX-Real-Ip: 127.0.0.1\\n\\tX-Real-Ip: 127.0.0.1\\n2021-01-10 15:21:37,029 | root | INFO | \\tX-Forwarded-For: 127.0.0.1\\n\\tX-Forwarded-For: 127.0.0.1\\n2021-01-10 15:21:37,029 | root | INFO | \\tX-Forwarded-Proto: http\\n\\tX-Forwarded-Proto: http\\n2021-01-10 15:21:37,030 | root | INFO | \\tConnection: close\\n\\tConnection: close\\n2021-01-10 15:21:37,030 | root | INFO | \\tContent-Length: 25104\\n\\tContent-Length: 25104\\n2021-01-10 15:21:37,030 | root | INFO | \\tUser-Agent: python-requests/2.25.0\\n\\tUser-Agent: python-requests/2.25.0\\n2021-01-10 15:21:37,031 | root | INFO | \\tAccept: */*\\n\\tAccept: */*\\n2021-01-10 15:21:37,031 | root | INFO | \\tAccept-Encoding: gzip, deflate\\n\\tAccept-Encoding: gzip, deflate\\n2021-01-10 15:21:37,031 | root | INFO | \\tContent-Type: application/json\\n\\tContent-Type: application/json\\n2021-01-10 15:21:37,031 | root | INFO | \\tX-Ms-Request-Id: 0728b98a-0b8f-4c26-b898-b48cc6a36456\\n\\tX-Ms-Request-Id: 0728b98a-0b8f-4c26-b898-b48cc6a36456\\n2021-01-10 15:21:37,031 | root | INFO | Scoring Timer is set to 60.0 seconds\\nScoring Timer is set to 60.0 seconds\\n2021-01-10 15:21:37,042 | root | INFO | 200\\n200\\n127.0.0.1 - - [10/Jan/2021:15:21:37 +0000] \"POST /score HTTP/1.0\" 200 21 \"-\" \"python-requests/2.25.0\"\\n2021-01-10 15:22:15,424 | root | INFO | Validation Request Content-Type\\nValidation Request Content-Type\\n2021-01-10 15:22:15,425 | root | INFO | \\tHost: localhost:5001\\n\\tHost: localhost:5001\\n2021-01-10 15:22:15,425 | root | INFO | \\tX-Real-Ip: 127.0.0.1\\n\\tX-Real-Ip: 127.0.0.1\\n2021-01-10 15:22:15,426 | root | INFO | \\tX-Forwarded-For: 127.0.0.1\\n\\tX-Forwarded-For: 127.0.0.1\\n2021-01-10 15:22:15,426 | root | INFO | \\tX-Forwarded-Proto: http\\n\\tX-Forwarded-Proto: http\\n2021-01-10 15:22:15,426 | root | INFO | \\tConnection: close\\n\\tConnection: close\\n2021-01-10 15:22:15,427 | root | INFO | \\tContent-Length: 25042\\n\\tContent-Length: 25042\\n2021-01-10 15:22:15,427 | root | INFO | \\tUser-Agent: python-requests/2.25.0\\n\\tUser-Agent: python-requests/2.25.0\\n2021-01-10 15:22:15,427 | root | INFO | \\tAccept: */*\\n\\tAccept: */*\\n2021-01-10 15:22:15,428 | root | INFO | \\tAccept-Encoding: gzip, deflate\\n\\tAccept-Encoding: gzip, deflate\\n2021-01-10 15:22:15,428 | root | INFO | \\tContent-Type: application/json\\n\\tContent-Type: application/json\\n2021-01-10 15:22:15,428 | root | INFO | \\tX-Ms-Request-Id: 66293e15-8b03-4213-a809-affea816d20e\\n\\tX-Ms-Request-Id: 66293e15-8b03-4213-a809-affea816d20e\\n2021-01-10 15:22:15,428 | root | INFO | Scoring Timer is set to 60.0 seconds\\nScoring Timer is set to 60.0 seconds\\n2021-01-10 15:22:15,439 | root | INFO | 200\\n200\\n127.0.0.1 - - [10/Jan/2021:15:22:15 +0000] \"POST /score HTTP/1.0\" 200 12 \"-\" \"python-requests/2.25.0\"\\n2021-01-10 15:22:15,470 | root | INFO | Validation Request Content-Type\\nValidation Request Content-Type\\n2021-01-10 15:22:15,471 | root | INFO | \\tHost: localhost:5001\\n\\tHost: localhost:5001\\n2021-01-10 15:22:15,471 | root | INFO | \\tX-Real-Ip: 127.0.0.1\\n\\tX-Real-Ip: 127.0.0.1\\n2021-01-10 15:22:15,472 | root | INFO | \\tX-Forwarded-For: 127.0.0.1\\n\\tX-Forwarded-For: 127.0.0.1\\n2021-01-10 15:22:15,472 | root | INFO | \\tX-Forwarded-Proto: http\\n\\tX-Forwarded-Proto: http\\n2021-01-10 15:22:15,473 | root | INFO | \\tConnection: close\\n\\tConnection: close\\n2021-01-10 15:22:15,473 | root | INFO | \\tContent-Length: 25104\\n\\tContent-Length: 25104\\n2021-01-10 15:22:15,473 | root | INFO | \\tUser-Agent: python-requests/2.25.0\\n\\tUser-Agent: python-requests/2.25.0\\n2021-01-10 15:22:15,474 | root | INFO | \\tAccept: */*\\n\\tAccept: */*\\n2021-01-10 15:22:15,475 | root | INFO | \\tAccept-Encoding: gzip, deflate\\n\\tAccept-Encoding: gzip, deflate\\n2021-01-10 15:22:15,475 | root | INFO | \\tContent-Type: application/json\\n\\tContent-Type: application/json\\n2021-01-10 15:22:15,475 | root | INFO | \\tX-Ms-Request-Id: 2b025cdb-3ad9-4576-9884-5a3dc93535c1\\n\\tX-Ms-Request-Id: 2b025cdb-3ad9-4576-9884-5a3dc93535c1\\n2021-01-10 15:22:15,475 | root | INFO | Scoring Timer is set to 60.0 seconds\\nScoring Timer is set to 60.0 seconds\\n2021-01-10 15:22:15,488 | root | INFO | 200\\n200\\n127.0.0.1 - - [10/Jan/2021:15:22:15 +0000] \"POST /score HTTP/1.0\" 200 21 \"-\" \"python-requests/2.25.0\"\\n2021-01-10 15:24:08,199 | root | INFO | Validation Request Content-Type\\nValidation Request Content-Type\\n2021-01-10 15:24:08,200 | root | INFO | \\tHost: localhost:5001\\n\\tHost: localhost:5001\\n2021-01-10 15:24:08,200 | root | INFO | \\tX-Real-Ip: 127.0.0.1\\n\\tX-Real-Ip: 127.0.0.1\\n2021-01-10 15:24:08,201 | root | INFO | \\tX-Forwarded-For: 127.0.0.1\\n\\tX-Forwarded-For: 127.0.0.1\\n2021-01-10 15:24:08,201 | root | INFO | \\tX-Forwarded-Proto: http\\n\\tX-Forwarded-Proto: http\\n2021-01-10 15:24:08,201 | root | INFO | \\tConnection: close\\n\\tConnection: close\\n2021-01-10 15:24:08,202 | root | INFO | \\tContent-Length: 25042\\n\\tContent-Length: 25042\\n2021-01-10 15:24:08,203 | root | INFO | \\tUser-Agent: python-requests/2.25.0\\n\\tUser-Agent: python-requests/2.25.0\\n2021-01-10 15:24:08,203 | root | INFO | \\tAccept: */*\\n\\tAccept: */*\\n2021-01-10 15:24:08,203 | root | INFO | \\tAccept-Encoding: gzip, deflate\\n\\tAccept-Encoding: gzip, deflate\\n2021-01-10 15:24:08,204 | root | INFO | \\tContent-Type: application/json\\n\\tContent-Type: application/json\\n2021-01-10 15:24:08,204 | root | INFO | \\tX-Ms-Request-Id: 17f0112e-51dc-4d5a-8c8c-20b5d0e1496c\\n\\tX-Ms-Request-Id: 17f0112e-51dc-4d5a-8c8c-20b5d0e1496c\\n2021-01-10 15:24:08,205 | root | INFO | Scoring Timer is set to 60.0 seconds\\nScoring Timer is set to 60.0 seconds\\n2021-01-10 15:24:08,214 | root | INFO | 200\\n200\\n127.0.0.1 - - [10/Jan/2021:15:24:08 +0000] \"POST /score HTTP/1.0\" 200 12 \"-\" \"python-requests/2.25.0\"\\n2021-01-10 15:24:13,254 | root | INFO | Validation Request Content-Type\\nValidation Request Content-Type\\n2021-01-10 15:24:13,255 | root | INFO | \\tHost: localhost:5001\\n\\tHost: localhost:5001\\n2021-01-10 15:24:13,255 | root | INFO | \\tX-Real-Ip: 127.0.0.1\\n\\tX-Real-Ip: 127.0.0.1\\n2021-01-10 15:24:13,255 | root | INFO | \\tX-Forwarded-For: 127.0.0.1\\n\\tX-Forwarded-For: 127.0.0.1\\n2021-01-10 15:24:13,255 | root | INFO | \\tX-Forwarded-Proto: http\\n\\tX-Forwarded-Proto: http\\n2021-01-10 15:24:13,256 | root | INFO | \\tConnection: close\\n\\tConnection: close\\n2021-01-10 15:24:13,257 | root | INFO | \\tContent-Length: 25104\\n\\tContent-Length: 25104\\n2021-01-10 15:24:13,257 | root | INFO | \\tUser-Agent: python-requests/2.25.0\\n\\tUser-Agent: python-requests/2.25.0\\n2021-01-10 15:24:13,257 | root | INFO | \\tAccept: */*\\n\\tAccept: */*\\n2021-01-10 15:24:13,257 | root | INFO | \\tAccept-Encoding: gzip, deflate\\n\\tAccept-Encoding: gzip, deflate\\n2021-01-10 15:24:13,258 | root | INFO | \\tContent-Type: application/json\\n\\tContent-Type: application/json\\n2021-01-10 15:24:13,258 | root | INFO | \\tX-Ms-Request-Id: 1b59b774-df12-49f1-8b86-5dd25b080ea2\\n\\tX-Ms-Request-Id: 1b59b774-df12-49f1-8b86-5dd25b080ea2\\n2021-01-10 15:24:13,259 | root | INFO | Scoring Timer is set to 60.0 seconds\\nScoring Timer is set to 60.0 seconds\\n2021-01-10 15:24:13,271 | root | INFO | 200\\n200\\n127.0.0.1 - - [10/Jan/2021:15:24:13 +0000] \"POST /score HTTP/1.0\" 200 21 \"-\" \"python-requests/2.25.0\"\\n2021-01-10 15:24:25,067 | root | INFO | Validation Request Content-Type\\nValidation Request Content-Type\\n2021-01-10 15:24:25,067 | root | INFO | \\tHost: localhost:5001\\n\\tHost: localhost:5001\\n2021-01-10 15:24:25,067 | root | INFO | \\tX-Real-Ip: 127.0.0.1\\n\\tX-Real-Ip: 127.0.0.1\\n2021-01-10 15:24:25,068 | root | INFO | \\tX-Forwarded-For: 127.0.0.1\\n\\tX-Forwarded-For: 127.0.0.1\\n2021-01-10 15:24:25,068 | root | INFO | \\tX-Forwarded-Proto: http\\n\\tX-Forwarded-Proto: http\\n2021-01-10 15:24:25,068 | root | INFO | \\tConnection: close\\n\\tConnection: close\\n2021-01-10 15:24:25,068 | root | INFO | \\tContent-Length: 25042\\n\\tContent-Length: 25042\\n2021-01-10 15:24:25,068 | root | INFO | \\tUser-Agent: python-requests/2.25.0\\n\\tUser-Agent: python-requests/2.25.0\\n2021-01-10 15:24:25,068 | root | INFO | \\tAccept: */*\\n\\tAccept: */*\\n2021-01-10 15:24:25,068 | root | INFO | \\tAccept-Encoding: gzip, deflate\\n\\tAccept-Encoding: gzip, deflate\\n2021-01-10 15:24:25,069 | root | INFO | \\tContent-Type: application/json\\n\\tContent-Type: application/json\\n2021-01-10 15:24:25,069 | root | INFO | \\tX-Ms-Request-Id: 91fc893f-ed34-4e5f-9fb0-5dcf185f2314\\n\\tX-Ms-Request-Id: 91fc893f-ed34-4e5f-9fb0-5dcf185f2314\\n2021-01-10 15:24:25,070 | root | INFO | Scoring Timer is set to 60.0 seconds\\nScoring Timer is set to 60.0 seconds\\n2021-01-10 15:24:25,084 | root | INFO | 200\\n200\\n127.0.0.1 - - [10/Jan/2021:15:24:25 +0000] \"POST /score HTTP/1.0\" 200 12 \"-\" \"python-requests/2.25.0\"\\n2021-01-10 15:24:25,114 | root | INFO | Validation Request Content-Type\\nValidation Request Content-Type\\n2021-01-10 15:24:25,114 | root | INFO | \\tHost: localhost:5001\\n\\tHost: localhost:5001\\n2021-01-10 15:24:25,115 | root | INFO | \\tX-Real-Ip: 127.0.0.1\\n\\tX-Real-Ip: 127.0.0.1\\n2021-01-10 15:24:25,115 | root | INFO | \\tX-Forwarded-For: 127.0.0.1\\n\\tX-Forwarded-For: 127.0.0.1\\n2021-01-10 15:24:25,116 | root | INFO | \\tX-Forwarded-Proto: http\\n\\tX-Forwarded-Proto: http\\n2021-01-10 15:24:25,117 | root | INFO | \\tConnection: close\\n\\tConnection: close\\n2021-01-10 15:24:25,117 | root | INFO | \\tContent-Length: 25104\\n\\tContent-Length: 25104\\n2021-01-10 15:24:25,117 | root | INFO | \\tUser-Agent: python-requests/2.25.0\\n\\tUser-Agent: python-requests/2.25.0\\n2021-01-10 15:24:25,117 | root | INFO | \\tAccept: */*\\n\\tAccept: */*\\n2021-01-10 15:24:25,118 | root | INFO | \\tAccept-Encoding: gzip, deflate\\n\\tAccept-Encoding: gzip, deflate\\n2021-01-10 15:24:25,118 | root | INFO | \\tContent-Type: application/json\\n\\tContent-Type: application/json\\n2021-01-10 15:24:25,118 | root | INFO | \\tX-Ms-Request-Id: db16ad4a-09e2-4cbc-95e8-1443e9b63d45\\n\\tX-Ms-Request-Id: db16ad4a-09e2-4cbc-95e8-1443e9b63d45\\n2021-01-10 15:24:25,119 | root | INFO | Scoring Timer is set to 60.0 seconds\\nScoring Timer is set to 60.0 seconds\\n2021-01-10 15:24:25,129 | root | INFO | 200\\n200\\n127.0.0.1 - - [10/Jan/2021:15:24:25 +0000] \"POST /score HTTP/1.0\" 200 21 \"-\" \"python-requests/2.25.0\"\\n2021-01-10 15:24:40,817 | root | INFO | Validation Request Content-Type\\nValidation Request Content-Type\\n2021-01-10 15:24:40,818 | root | INFO | \\tHost: localhost:5001\\n\\tHost: localhost:5001\\n2021-01-10 15:24:40,818 | root | INFO | \\tX-Real-Ip: 127.0.0.1\\n\\tX-Real-Ip: 127.0.0.1\\n2021-01-10 15:24:40,819 | root | INFO | \\tX-Forwarded-For: 127.0.0.1\\n\\tX-Forwarded-For: 127.0.0.1\\n2021-01-10 15:24:40,819 | root | INFO | \\tX-Forwarded-Proto: http\\n\\tX-Forwarded-Proto: http\\n2021-01-10 15:24:40,819 | root | INFO | \\tConnection: close\\n\\tConnection: close\\n2021-01-10 15:24:40,819 | root | INFO | \\tContent-Length: 25042\\n\\tContent-Length: 25042\\n2021-01-10 15:24:40,819 | root | INFO | \\tUser-Agent: python-requests/2.25.0\\n\\tUser-Agent: python-requests/2.25.0\\n2021-01-10 15:24:40,819 | root | INFO | \\tAccept: */*\\n\\tAccept: */*\\n2021-01-10 15:24:40,819 | root | INFO | \\tAccept-Encoding: gzip, deflate\\n\\tAccept-Encoding: gzip, deflate\\n2021-01-10 15:24:40,820 | root | INFO | \\tContent-Type: application/json\\n\\tContent-Type: application/json\\n2021-01-10 15:24:40,820 | root | INFO | \\tX-Ms-Request-Id: a95fb07a-7a2a-4e38-860c-1aed8ac2acca\\n\\tX-Ms-Request-Id: a95fb07a-7a2a-4e38-860c-1aed8ac2acca\\n2021-01-10 15:24:40,820 | root | INFO | Scoring Timer is set to 60.0 seconds\\nScoring Timer is set to 60.0 seconds\\n2021-01-10 15:24:40,834 | root | INFO | 200\\n200\\n127.0.0.1 - - [10/Jan/2021:15:24:40 +0000] \"POST /score HTTP/1.0\" 200 12 \"-\" \"python-requests/2.25.0\"\\n2021-01-10 15:24:40,863 | root | INFO | Validation Request Content-Type\\nValidation Request Content-Type\\n2021-01-10 15:24:40,863 | root | INFO | \\tHost: localhost:5001\\n\\tHost: localhost:5001\\n2021-01-10 15:24:40,864 | root | INFO | \\tX-Real-Ip: 127.0.0.1\\n\\tX-Real-Ip: 127.0.0.1\\n2021-01-10 15:24:40,864 | root | INFO | \\tX-Forwarded-For: 127.0.0.1\\n\\tX-Forwarded-For: 127.0.0.1\\n2021-01-10 15:24:40,865 | root | INFO | \\tX-Forwarded-Proto: http\\n\\tX-Forwarded-Proto: http\\n2021-01-10 15:24:40,865 | root | INFO | \\tConnection: close\\n\\tConnection: close\\n2021-01-10 15:24:40,865 | root | INFO | \\tContent-Length: 25104\\n\\tContent-Length: 25104\\n2021-01-10 15:24:40,865 | root | INFO | \\tUser-Agent: python-requests/2.25.0\\n\\tUser-Agent: python-requests/2.25.0\\n2021-01-10 15:24:40,865 | root | INFO | \\tAccept: */*\\n\\tAccept: */*\\n2021-01-10 15:24:40,866 | root | INFO | \\tAccept-Encoding: gzip, deflate\\n\\tAccept-Encoding: gzip, deflate\\n2021-01-10 15:24:40,866 | root | INFO | \\tContent-Type: application/json\\n\\tContent-Type: application/json\\n2021-01-10 15:24:40,866 | root | INFO | \\tX-Ms-Request-Id: dede3e03-731f-4f4b-8686-fccbd719a344\\n\\tX-Ms-Request-Id: dede3e03-731f-4f4b-8686-fccbd719a344\\n2021-01-10 15:24:40,866 | root | INFO | Scoring Timer is set to 60.0 seconds\\nScoring Timer is set to 60.0 seconds\\n2021-01-10 15:24:40,873 | root | INFO | 200\\n200\\n127.0.0.1 - - [10/Jan/2021:15:24:40 +0000] \"POST /score HTTP/1.0\" 200 21 \"-\" \"python-requests/2.25.0\"\\n2021-01-10 15:25:35,885 | root | INFO | Validation Request Content-Type\\nValidation Request Content-Type\\n2021-01-10 15:25:35,886 | root | INFO | \\tHost: localhost:5001\\n\\tHost: localhost:5001\\n2021-01-10 15:25:35,886 | root | INFO | \\tX-Real-Ip: 127.0.0.1\\n\\tX-Real-Ip: 127.0.0.1\\n2021-01-10 15:25:35,887 | root | INFO | \\tX-Forwarded-For: 127.0.0.1\\n\\tX-Forwarded-For: 127.0.0.1\\n2021-01-10 15:25:35,887 | root | INFO | \\tX-Forwarded-Proto: http\\n\\tX-Forwarded-Proto: http\\n2021-01-10 15:25:35,888 | root | INFO | \\tConnection: close\\n\\tConnection: close\\n2021-01-10 15:25:35,888 | root | INFO | \\tContent-Length: 25042\\n\\tContent-Length: 25042\\n2021-01-10 15:25:35,889 | root | INFO | \\tUser-Agent: python-requests/2.25.0\\n\\tUser-Agent: python-requests/2.25.0\\n2021-01-10 15:25:35,889 | root | INFO | \\tAccept: */*\\n\\tAccept: */*\\n2021-01-10 15:25:35,889 | root | INFO | \\tAccept-Encoding: gzip, deflate\\n\\tAccept-Encoding: gzip, deflate\\n2021-01-10 15:25:35,890 | root | INFO | \\tContent-Type: application/json\\n\\tContent-Type: application/json\\n2021-01-10 15:25:35,890 | root | INFO | \\tX-Ms-Request-Id: f05da8a4-cea2-4443-93e1-424f1b2b31b4\\n\\tX-Ms-Request-Id: f05da8a4-cea2-4443-93e1-424f1b2b31b4\\n2021-01-10 15:25:35,890 | root | INFO | Scoring Timer is set to 60.0 seconds\\nScoring Timer is set to 60.0 seconds\\n2021-01-10 15:25:35,904 | root | INFO | 200\\n200\\n127.0.0.1 - - [10/Jan/2021:15:25:35 +0000] \"POST /score HTTP/1.0\" 200 12 \"-\" \"python-requests/2.25.0\"\\n2021-01-10 15:25:40,940 | root | INFO | Validation Request Content-Type\\nValidation Request Content-Type\\n2021-01-10 15:25:40,941 | root | INFO | \\tHost: localhost:5001\\n\\tHost: localhost:5001\\n2021-01-10 15:25:40,942 | root | INFO | \\tX-Real-Ip: 127.0.0.1\\n\\tX-Real-Ip: 127.0.0.1\\n2021-01-10 15:25:40,942 | root | INFO | \\tX-Forwarded-For: 127.0.0.1\\n\\tX-Forwarded-For: 127.0.0.1\\n2021-01-10 15:25:40,942 | root | INFO | \\tX-Forwarded-Proto: http\\n\\tX-Forwarded-Proto: http\\n2021-01-10 15:25:40,943 | root | INFO | \\tConnection: close\\n\\tConnection: close\\n2021-01-10 15:25:40,943 | root | INFO | \\tContent-Length: 25104\\n\\tContent-Length: 25104\\n2021-01-10 15:25:40,944 | root | INFO | \\tUser-Agent: python-requests/2.25.0\\n\\tUser-Agent: python-requests/2.25.0\\n2021-01-10 15:25:40,944 | root | INFO | \\tAccept: */*\\n\\tAccept: */*\\n2021-01-10 15:25:40,946 | root | INFO | \\tAccept-Encoding: gzip, deflate\\n\\tAccept-Encoding: gzip, deflate\\n2021-01-10 15:25:40,946 | root | INFO | \\tContent-Type: application/json\\n\\tContent-Type: application/json\\n2021-01-10 15:25:40,947 | root | INFO | \\tX-Ms-Request-Id: 5602d291-3f36-4df5-9340-8205b11a1ba2\\n\\tX-Ms-Request-Id: 5602d291-3f36-4df5-9340-8205b11a1ba2\\n2021-01-10 15:25:40,948 | root | INFO | Scoring Timer is set to 60.0 seconds\\nScoring Timer is set to 60.0 seconds\\n2021-01-10 15:25:40,959 | root | INFO | 200\\n200\\n127.0.0.1 - - [10/Jan/2021:15:25:40 +0000] \"POST /score HTTP/1.0\" 200 21 \"-\" \"python-requests/2.25.0\"\\n'"
      ]
     },
     "execution_count": 37,
     "metadata": {},
     "output_type": "execute_result"
    }
   ],
   "source": [
    "service.get_logs()"
   ]
  },
  {
   "cell_type": "code",
   "execution_count": 23,
   "metadata": {},
   "outputs": [
    {
     "name": "stdout",
     "output_type": "stream",
     "text": [
      "http://282f74f4-5bcc-47db-ade9-309c46afaef6.eastus2.azurecontainer.io/score\n"
     ]
    }
   ],
   "source": [
    "endpoint = service.scoring_uri\n",
    "print(endpoint)"
   ]
  },
  {
   "cell_type": "code",
   "execution_count": 36,
   "metadata": {},
   "outputs": [
    {
     "name": "stdout",
     "output_type": "stream",
     "text": [
      "Data: ['This is an admission application form']\n",
      "The Predicted document is : form\n",
      "Data: ['New York is the best city for world-class tutors']\n",
      "The Predicted document is : advertisement\n"
     ]
    }
   ],
   "source": [
    "import json\n",
    "import requests\n",
    "\n",
    "x_new = [['This is an admission application form'],['New York is the best city for world-class tutors']]\n",
    "for i in range(len(x_new)):\n",
    "    print ('Data: {}'.format(x_new[i]))\n",
    "    vect = Tfidf_vect.transform(x_new[i]).toarray()\n",
    "\n",
    "    # Convert the array to a serializable list in a JSON document\n",
    "    input_json = json.dumps({\"data\": vect.tolist()})\n",
    "\n",
    "    # Set the content type\n",
    "    headers = { 'Content-Type':'application/json' }\n",
    "\n",
    "    predictions = requests.post(endpoint, input_json, headers = headers)\n",
    "    predicted_classes = json.loads(predictions.json())\n",
    "    print ('The Predicted document is : {}'.format(predicted_classes[0]))"
   ]
  },
  {
   "cell_type": "code",
   "execution_count": 40,
   "metadata": {},
   "outputs": [
    {
     "name": "stdout",
     "output_type": "stream",
     "text": [
      "Service deleted.\n"
     ]
    }
   ],
   "source": [
    "service.delete()\n",
    "print ('Service deleted.')"
   ]
  },
  {
   "cell_type": "code",
   "execution_count": null,
   "metadata": {},
   "outputs": [],
   "source": []
  }
 ],
 "metadata": {
  "kernelspec": {
   "display_name": "Python 3.6 - AzureML",
   "language": "python",
   "name": "python3-azureml"
  },
  "language_info": {
   "codemirror_mode": {
    "name": "ipython",
    "version": 3
   },
   "file_extension": ".py",
   "mimetype": "text/x-python",
   "name": "python",
   "nbconvert_exporter": "python",
   "pygments_lexer": "ipython3",
   "version": "3.6.9"
  }
 },
 "nbformat": 4,
 "nbformat_minor": 4
}
